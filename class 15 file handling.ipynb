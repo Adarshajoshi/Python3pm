{
 "cells": [
  {
   "cell_type": "code",
   "execution_count": 1,
   "id": "58fe619c",
   "metadata": {},
   "outputs": [],
   "source": [
    "#file=open('<file_name>','<mode>')\n",
    "#file.close()\n",
    "\n",
    "#with open('<file_name>','<mode>') as file:\n",
    "#    <operation>"
   ]
  },
  {
   "cell_type": "code",
   "execution_count": 2,
   "id": "7548c4ed",
   "metadata": {},
   "outputs": [],
   "source": [
    "#mode\n",
    "#read=r\n",
    "#create=x\n",
    "#write=w\n",
    "#append=a"
   ]
  },
  {
   "cell_type": "code",
   "execution_count": 6,
   "id": "45939538",
   "metadata": {},
   "outputs": [
    {
     "name": "stdout",
     "output_type": "stream",
     "text": [
      "the file is already there\n"
     ]
    }
   ],
   "source": [
    "try:\n",
    "    file=open('data.txt','x')\n",
    "    file.close()\n",
    "except:\n",
    "    print('the file is already there')"
   ]
  },
  {
   "cell_type": "code",
   "execution_count": 13,
   "id": "e52e62cf",
   "metadata": {},
   "outputs": [
    {
     "name": "stdout",
     "output_type": "stream",
     "text": [
      "Hello World\n",
      "Hello World\n",
      "Hello World\n",
      "Hello World\n",
      "Hello World\n",
      "Hello World\n"
     ]
    },
    {
     "data": {
      "text/plain": [
       "str"
      ]
     },
     "execution_count": 13,
     "metadata": {},
     "output_type": "execute_result"
    }
   ],
   "source": [
    "file=open('data.txt','r')\n",
    "x=file.read()\n",
    "print(x)\n",
    "file.close()\n",
    "type(x)"
   ]
  },
  {
   "cell_type": "code",
   "execution_count": 15,
   "id": "9b1528d3",
   "metadata": {},
   "outputs": [
    {
     "data": {
      "text/plain": [
       "['Hello World',\n",
       " 'Hello World',\n",
       " 'Hello World',\n",
       " 'Hello World',\n",
       " 'Hello World',\n",
       " 'Hello World']"
      ]
     },
     "execution_count": 15,
     "metadata": {},
     "output_type": "execute_result"
    }
   ],
   "source": [
    "y=x.split('\\n')\n",
    "y"
   ]
  },
  {
   "cell_type": "code",
   "execution_count": 16,
   "id": "c320a575",
   "metadata": {},
   "outputs": [
    {
     "data": {
      "text/plain": [
       "'Hello World'"
      ]
     },
     "execution_count": 16,
     "metadata": {},
     "output_type": "execute_result"
    }
   ],
   "source": [
    "y[2]"
   ]
  },
  {
   "cell_type": "code",
   "execution_count": 19,
   "id": "8b702b88",
   "metadata": {},
   "outputs": [
    {
     "name": "stdout",
     "output_type": "stream",
     "text": [
      "23\n"
     ]
    }
   ],
   "source": [
    "file=open('data.txt','w')\n",
    "x=file.write('Hello World i am python')\n",
    "print(x)\n",
    "file.close()"
   ]
  },
  {
   "cell_type": "code",
   "execution_count": 20,
   "id": "bd4cfbc6",
   "metadata": {},
   "outputs": [
    {
     "name": "stdout",
     "output_type": "stream",
     "text": [
      "23\n"
     ]
    }
   ],
   "source": [
    "file=open('datas.txt','w')\n",
    "x=file.write('Hello World i am python')\n",
    "print(x)\n",
    "file.close()"
   ]
  },
  {
   "cell_type": "code",
   "execution_count": 24,
   "id": "bd09bd81",
   "metadata": {},
   "outputs": [
    {
     "name": "stdout",
     "output_type": "stream",
     "text": [
      "Enter the value of n2\n",
      "Enter product nameapple\n",
      "Enter price120\n",
      "Enter quantity10\n",
      "Enter product nameball\n",
      "Enter price120\n",
      "Enter quantity100\n"
     ]
    }
   ],
   "source": [
    "bill=\"\"\n",
    "n=int(input(\"Enter the value of n\"))\n",
    "for i in range(n):\n",
    "    name=input(\"Enter product name\")\n",
    "    price=int(input(\"Enter price\"))\n",
    "    quan=int(input(\"Enter quantity\"))\n",
    "    total=price*quan\n",
    "    bill=bill+f'{name} {price} {quan} {total}\\n'\n",
    "\n",
    "file=open('datas.txt','w')\n",
    "x=file.write(bill)\n",
    "file.close()"
   ]
  },
  {
   "cell_type": "code",
   "execution_count": 25,
   "id": "65da5822",
   "metadata": {},
   "outputs": [
    {
     "name": "stdout",
     "output_type": "stream",
     "text": [
      "Enter the value of n2\n",
      "Enter product namemango\n",
      "Enter price100\n",
      "Enter quantity210\n",
      "Enter product nameCHOCOLATE\n",
      "Enter price80\n",
      "Enter quantity120\n"
     ]
    }
   ],
   "source": [
    "bill=\"\"\n",
    "n=int(input(\"Enter the value of n\"))\n",
    "for i in range(n):\n",
    "    name=input(\"Enter product name\")\n",
    "    price=int(input(\"Enter price\"))\n",
    "    quan=int(input(\"Enter quantity\"))\n",
    "    total=price*quan\n",
    "    bill=bill+f'{name} {price} {quan} {total}\\n'\n",
    "\n",
    "file=open('datas.txt','a')\n",
    "x=file.write(bill)\n",
    "file.close()"
   ]
  },
  {
   "cell_type": "code",
   "execution_count": 2,
   "id": "e3a184db",
   "metadata": {},
   "outputs": [
    {
     "name": "stdout",
     "output_type": "stream",
     "text": [
      "Enter the value of n2\n",
      "Enter product nameapple\n",
      "Enter price100\n",
      "Enter quantity120\n",
      "Enter product nameball\n",
      "Enter price120\n",
      "Enter quantity120\n"
     ]
    }
   ],
   "source": [
    "bill=\"\"\n",
    "n=int(input(\"Enter the value of n\"))\n",
    "for i in range(n):\n",
    "    name=input(\"Enter product name\")\n",
    "    price=int(input(\"Enter price\"))\n",
    "    quan=int(input(\"Enter quantity\"))\n",
    "    total=price*quan\n",
    "    bill=bill+f'{name},{price},{quan},{total}\\n'\n",
    "\n",
    "file=open('datas.csv','w')\n",
    "file.write(\"name,Price,Quantity,Total\\n\")\n",
    "x=file.write(bill)\n",
    "file.close()"
   ]
  },
  {
   "cell_type": "code",
   "execution_count": 3,
   "id": "59551628",
   "metadata": {},
   "outputs": [
    {
     "name": "stdout",
     "output_type": "stream",
     "text": [
      "name,Price,Quantity,Total\n",
      "apple,100,120,12000\n",
      "ball,120,120,14400\n",
      "\n"
     ]
    }
   ],
   "source": [
    "file=open('datas.csv','r')\n",
    "x=file.read()\n",
    "print(x)\n",
    "file.close()"
   ]
  },
  {
   "cell_type": "code",
   "execution_count": 7,
   "id": "41209da9",
   "metadata": {},
   "outputs": [
    {
     "data": {
      "text/plain": [
       "['name,Price,Quantity,Total', 'apple,100,120,12000', 'ball,120,120,14400']"
      ]
     },
     "execution_count": 7,
     "metadata": {},
     "output_type": "execute_result"
    }
   ],
   "source": [
    "y=x.split()\n",
    "y"
   ]
  },
  {
   "cell_type": "code",
   "execution_count": 12,
   "id": "ace9b5db",
   "metadata": {},
   "outputs": [
    {
     "data": {
      "text/plain": [
       "[['name', 'Price', 'Quantity', 'Total'],\n",
       " ['apple', '100', '120', '12000'],\n",
       " ['ball', '120', '120', '14400']]"
      ]
     },
     "execution_count": 12,
     "metadata": {},
     "output_type": "execute_result"
    }
   ],
   "source": [
    "bill=[]\n",
    "for i in y:\n",
    "    bill.append(i.split(','))\n",
    "    \n",
    "bill\n",
    "    "
   ]
  },
  {
   "cell_type": "code",
   "execution_count": 18,
   "id": "30fa555e",
   "metadata": {},
   "outputs": [
    {
     "name": "stdout",
     "output_type": "stream",
     "text": [
      "26400\n"
     ]
    }
   ],
   "source": [
    "bill_total=0\n",
    "for i in range(1,len(bill)):\n",
    "    z=int(bill[i][3])\n",
    "    bill_total=bill_total+z\n",
    "print(bill_total)"
   ]
  },
  {
   "cell_type": "code",
   "execution_count": null,
   "id": "fd75a9be",
   "metadata": {},
   "outputs": [],
   "source": []
  }
 ],
 "metadata": {
  "kernelspec": {
   "display_name": "Python 3 (ipykernel)",
   "language": "python",
   "name": "python3"
  },
  "language_info": {
   "codemirror_mode": {
    "name": "ipython",
    "version": 3
   },
   "file_extension": ".py",
   "mimetype": "text/x-python",
   "name": "python",
   "nbconvert_exporter": "python",
   "pygments_lexer": "ipython3",
   "version": "3.9.12"
  }
 },
 "nbformat": 4,
 "nbformat_minor": 5
}
