{
 "cells": [
  {
   "cell_type": "code",
   "execution_count": 1,
   "id": "84cc35eb",
   "metadata": {},
   "outputs": [],
   "source": [
    "#a={}\n",
    "#d=dict()\n",
    "#d={<key>:value}"
   ]
  },
  {
   "cell_type": "code",
   "execution_count": 6,
   "id": "5dd9a4cb",
   "metadata": {},
   "outputs": [
    {
     "name": "stdout",
     "output_type": "stream",
     "text": [
      "{'a': 'apple', 'b': 'ball'}\n"
     ]
    }
   ],
   "source": [
    "d={\n",
    "    \"a\":\"apple\",\n",
    "    \"b\":\"ball\"\n",
    "}\n",
    "print(d)"
   ]
  },
  {
   "cell_type": "code",
   "execution_count": 9,
   "id": "4784ce9d",
   "metadata": {},
   "outputs": [
    {
     "data": {
      "text/plain": [
       "'apple'"
      ]
     },
     "execution_count": 9,
     "metadata": {},
     "output_type": "execute_result"
    }
   ],
   "source": [
    "d['a']"
   ]
  },
  {
   "cell_type": "code",
   "execution_count": 10,
   "id": "13d3c1b0",
   "metadata": {},
   "outputs": [
    {
     "data": {
      "text/plain": [
       "2"
      ]
     },
     "execution_count": 10,
     "metadata": {},
     "output_type": "execute_result"
    }
   ],
   "source": [
    "len(d)"
   ]
  },
  {
   "cell_type": "code",
   "execution_count": 12,
   "id": "4dccfc04",
   "metadata": {},
   "outputs": [
    {
     "data": {
      "text/plain": [
       "'apples'"
      ]
     },
     "execution_count": 12,
     "metadata": {},
     "output_type": "execute_result"
    }
   ],
   "source": [
    "d['a']='apples'\n",
    "d['a']"
   ]
  },
  {
   "cell_type": "code",
   "execution_count": 13,
   "id": "2b457001",
   "metadata": {},
   "outputs": [
    {
     "data": {
      "text/plain": [
       "{'a': 'apple', 'b': 'ball', 'd': 'dog'}"
      ]
     },
     "execution_count": 13,
     "metadata": {},
     "output_type": "execute_result"
    }
   ],
   "source": [
    "d={\n",
    "    \"a\":\"apple\",\n",
    "    \"b\":\"ball\"\n",
    "}\n",
    "d['d']='dog'\n",
    "d"
   ]
  },
  {
   "cell_type": "code",
   "execution_count": 16,
   "id": "0ccae6a1",
   "metadata": {},
   "outputs": [
    {
     "data": {
      "text/plain": [
       "{'a': ('apple',), 'b': 'ball'}"
      ]
     },
     "execution_count": 16,
     "metadata": {},
     "output_type": "execute_result"
    }
   ],
   "source": [
    "d={}\n",
    "d['a']='apple',\n",
    "d['b']='ball'\n",
    "d"
   ]
  },
  {
   "cell_type": "code",
   "execution_count": 17,
   "id": "0bd34a4f",
   "metadata": {},
   "outputs": [
    {
     "name": "stdout",
     "output_type": "stream",
     "text": [
      "enter n=2\n",
      "Enter name=aj\n",
      "enter phone=98742141\n",
      "Enter name=sa\n",
      "enter phone=12312312\n",
      "{'aj': 98742141, 'sa': 12312312}\n"
     ]
    }
   ],
   "source": [
    "d={}\n",
    "n=int(input(\"enter n=\"))\n",
    "for i in range(n):\n",
    "    name=input(\"Enter name=\")\n",
    "    phone=int(input(\"enter phone=\"))\n",
    "    d[name]=phone\n",
    "print(d)"
   ]
  },
  {
   "cell_type": "code",
   "execution_count": 19,
   "id": "40b8fd95",
   "metadata": {},
   "outputs": [
    {
     "data": {
      "text/plain": [
       "98742141"
      ]
     },
     "execution_count": 19,
     "metadata": {},
     "output_type": "execute_result"
    }
   ],
   "source": [
    "d['aj']"
   ]
  },
  {
   "cell_type": "code",
   "execution_count": 22,
   "id": "fd549d44",
   "metadata": {},
   "outputs": [
    {
     "name": "stdout",
     "output_type": "stream",
     "text": [
      "98742141\n",
      "12312312\n"
     ]
    }
   ],
   "source": [
    "for i in d.values():\n",
    "    print(i)"
   ]
  },
  {
   "cell_type": "code",
   "execution_count": 23,
   "id": "0b2aedf1",
   "metadata": {},
   "outputs": [
    {
     "name": "stdout",
     "output_type": "stream",
     "text": [
      "('aj', 98742141)\n",
      "('sa', 12312312)\n"
     ]
    }
   ],
   "source": [
    "for i in d.items():\n",
    "    print(i)"
   ]
  },
  {
   "cell_type": "code",
   "execution_count": 25,
   "id": "41c875fd",
   "metadata": {},
   "outputs": [
    {
     "name": "stdout",
     "output_type": "stream",
     "text": [
      "aj\n",
      "sa\n"
     ]
    }
   ],
   "source": [
    "for i in d:\n",
    "    print(i)"
   ]
  },
  {
   "cell_type": "code",
   "execution_count": 27,
   "id": "da6b6c05",
   "metadata": {},
   "outputs": [
    {
     "data": {
      "text/plain": [
       "[('aj', 98742141), ('sa', 12312312)]"
      ]
     },
     "execution_count": 27,
     "metadata": {},
     "output_type": "execute_result"
    }
   ],
   "source": [
    "x=[]\n",
    "for i in d.items():\n",
    "    x.append(i)\n",
    "x"
   ]
  },
  {
   "cell_type": "code",
   "execution_count": 28,
   "id": "8ba212fe",
   "metadata": {},
   "outputs": [
    {
     "data": {
      "text/plain": [
       "{'aj': 98742141, 'sa': 12312312}"
      ]
     },
     "execution_count": 28,
     "metadata": {},
     "output_type": "execute_result"
    }
   ],
   "source": [
    "dict(x)"
   ]
  },
  {
   "cell_type": "code",
   "execution_count": 29,
   "id": "2c4da421",
   "metadata": {},
   "outputs": [
    {
     "data": {
      "text/plain": [
       "{'aj': 98742141, 'sa': 12312312, 'hari': 12123123}"
      ]
     },
     "execution_count": 29,
     "metadata": {},
     "output_type": "execute_result"
    }
   ],
   "source": [
    "d={'aj': 98742141, 'sa': 12312312}\n",
    "c={'hari':12123123}\n",
    "d.update(c)\n",
    "d"
   ]
  },
  {
   "cell_type": "code",
   "execution_count": 33,
   "id": "abcb8d5a",
   "metadata": {},
   "outputs": [
    {
     "data": {
      "text/plain": [
       "{('aj', 'shyam'): 98742141, 'sa': 12312312}"
      ]
     },
     "execution_count": 33,
     "metadata": {},
     "output_type": "execute_result"
    }
   ],
   "source": [
    "d={('aj','shyam'): 98742141, 'sa': 12312312}\n",
    "d"
   ]
  },
  {
   "cell_type": "code",
   "execution_count": 35,
   "id": "2dcbd43c",
   "metadata": {},
   "outputs": [
    {
     "data": {
      "text/plain": [
       "98742141"
      ]
     },
     "execution_count": 35,
     "metadata": {},
     "output_type": "execute_result"
    }
   ],
   "source": [
    "d[('aj','shyam')]"
   ]
  },
  {
   "cell_type": "code",
   "execution_count": 37,
   "id": "5b1089aa",
   "metadata": {},
   "outputs": [
    {
     "data": {
      "text/plain": [
       "{'aj': 98742141, 'hari': 12123123}"
      ]
     },
     "execution_count": 37,
     "metadata": {},
     "output_type": "execute_result"
    }
   ],
   "source": [
    "d={'aj': 98742141, 'sa': 12312312, 'hari': 12123123}\n",
    "del d['sa']\n",
    "d"
   ]
  },
  {
   "cell_type": "code",
   "execution_count": 38,
   "id": "16b6b01c",
   "metadata": {},
   "outputs": [
    {
     "data": {
      "text/plain": [
       "{'aj': [98742141, 1412401240], 'sa': [1231231212, 8929860969]}"
      ]
     },
     "execution_count": 38,
     "metadata": {},
     "output_type": "execute_result"
    }
   ],
   "source": [
    "d={'aj': [98742141,1412401240], 'sa': [1231231212,8929860969]}\n",
    "d"
   ]
  },
  {
   "cell_type": "code",
   "execution_count": 42,
   "id": "67f047af",
   "metadata": {},
   "outputs": [
    {
     "name": "stdout",
     "output_type": "stream",
     "text": [
      "[98742141, 1412401240]\n",
      "98742141\n"
     ]
    }
   ],
   "source": [
    "print(d['aj'])\n",
    "print(d['aj'][0])"
   ]
  },
  {
   "cell_type": "code",
   "execution_count": 45,
   "id": "9f5f7da7",
   "metadata": {},
   "outputs": [
    {
     "name": "stdout",
     "output_type": "stream",
     "text": [
      "Enter n:2\n",
      "Enter nameram\n",
      "Enter ntc no:324232\n",
      "Enter ncell no:32432\n",
      "Enter namehari\n",
      "Enter ntc no:8689698\n",
      "Enter ncell no:8688968998698\n"
     ]
    },
    {
     "data": {
      "text/plain": [
       "{'ram': [324232, 32432], 'hari': [8689698, 8688968998698]}"
      ]
     },
     "execution_count": 45,
     "metadata": {},
     "output_type": "execute_result"
    }
   ],
   "source": [
    "d={}\n",
    "n=int(input(\"Enter n:\"))\n",
    "for i in range(n):\n",
    "    name=input(\"Enter name\")\n",
    "    ntc=int(input(\"Enter ntc no:\"))\n",
    "    ncell=int(input(\"Enter ncell no:\"))\n",
    "    d[name]=[ntc,ncell]\n",
    "    \n",
    "d"
   ]
  },
  {
   "cell_type": "code",
   "execution_count": 47,
   "id": "0d080f7c",
   "metadata": {},
   "outputs": [
    {
     "data": {
      "text/plain": [
       "32432"
      ]
     },
     "execution_count": 47,
     "metadata": {},
     "output_type": "execute_result"
    }
   ],
   "source": [
    "d['ram'][1]"
   ]
  },
  {
   "cell_type": "code",
   "execution_count": 49,
   "id": "b920e0a5",
   "metadata": {},
   "outputs": [
    {
     "name": "stdout",
     "output_type": "stream",
     "text": [
      "('ram', [324232, 32432])\n",
      "('hari', [8689698, 8688968998698])\n"
     ]
    }
   ],
   "source": [
    "d={'ram': [324232, 32432], 'hari': [8689698, 8688968998698]}\n",
    "for i in d.items():\n",
    "    print(i)"
   ]
  },
  {
   "cell_type": "code",
   "execution_count": 51,
   "id": "73f8915f",
   "metadata": {},
   "outputs": [
    {
     "data": {
      "text/plain": [
       "{'ram': [324232, 32432],\n",
       " 'hari': [8689698, 8688968998698],\n",
       " 'asd': [1232112312, 1231231234]}"
      ]
     },
     "execution_count": 51,
     "metadata": {},
     "output_type": "execute_result"
    }
   ],
   "source": [
    "a={'ram': [324232, 32432], 'hari': [8689698, 8688968998698]}\n",
    "a['asd']=[1232112312,1231231234]\n",
    "a"
   ]
  },
  {
   "cell_type": "code",
   "execution_count": 52,
   "id": "de41a9e1",
   "metadata": {},
   "outputs": [
    {
     "data": {
      "text/plain": [
       "{'ram': [324232, 32432, 49236984623], 'hari': [8689698, 8688968998698]}"
      ]
     },
     "execution_count": 52,
     "metadata": {},
     "output_type": "execute_result"
    }
   ],
   "source": [
    "a={'ram': [324232, 32432], 'hari': [8689698, 8688968998698]}\n",
    "a['ram'].append(49236984623)\n",
    "a"
   ]
  },
  {
   "cell_type": "code",
   "execution_count": 54,
   "id": "85d2e32e",
   "metadata": {},
   "outputs": [
    {
     "name": "stdout",
     "output_type": "stream",
     "text": [
      "n=2\n",
      "Enter name:ram\n",
      "Enter age:21\n",
      "Enter address:ktm\n",
      "Enter name:hari\n",
      "Enter age:10\n",
      "Enter address:bkt\n"
     ]
    },
    {
     "data": {
      "text/plain": [
       "{'name': ['ram', 'hari'], 'add': ['ktm', 'bkt'], 'age': [21, 10]}"
      ]
     },
     "execution_count": 54,
     "metadata": {},
     "output_type": "execute_result"
    }
   ],
   "source": [
    "name=[]\n",
    "age=[]\n",
    "add=[]\n",
    "n=int(input(\"n=\"))\n",
    "for i in range(n):\n",
    "    na=input(\"Enter name:\")\n",
    "    ag=int(input(\"Enter age:\"))\n",
    "    ad=input(\"Enter address:\")\n",
    "    name.append(na)\n",
    "    age.append(ag)\n",
    "    add.append(ad)\n",
    "a={'name':name,'add':add,'age':age}\n",
    "a"
   ]
  },
  {
   "cell_type": "code",
   "execution_count": null,
   "id": "72f74494",
   "metadata": {},
   "outputs": [],
   "source": []
  }
 ],
 "metadata": {
  "kernelspec": {
   "display_name": "Python 3 (ipykernel)",
   "language": "python",
   "name": "python3"
  },
  "language_info": {
   "codemirror_mode": {
    "name": "ipython",
    "version": 3
   },
   "file_extension": ".py",
   "mimetype": "text/x-python",
   "name": "python",
   "nbconvert_exporter": "python",
   "pygments_lexer": "ipython3",
   "version": "3.9.12"
  }
 },
 "nbformat": 4,
 "nbformat_minor": 5
}
