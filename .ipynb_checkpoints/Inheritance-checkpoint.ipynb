{
 "cells": [
  {
   "cell_type": "code",
   "execution_count": 1,
   "id": "f8192d61",
   "metadata": {},
   "outputs": [],
   "source": [
    "#class A:\n",
    " #   pass\n",
    "#class B(A):\n",
    " #   pass"
   ]
  },
  {
   "cell_type": "code",
   "execution_count": 5,
   "id": "c3bc9c19",
   "metadata": {},
   "outputs": [
    {
     "name": "stdout",
     "output_type": "stream",
     "text": [
      "Hello World I Am Ram I am 12\n"
     ]
    }
   ],
   "source": [
    "class A:\n",
    "    def __init__(self):\n",
    "        self.name=\"Ram\"\n",
    "        self.age=12\n",
    "        \n",
    "class B(A):\n",
    "    def info(self):\n",
    "        print(f'Hello World I Am {self.name} I am {self.age}')\n",
    "        \n",
    "obj=B()\n",
    "obj.info()"
   ]
  },
  {
   "cell_type": "code",
   "execution_count": 6,
   "id": "6b4b9ffd",
   "metadata": {},
   "outputs": [
    {
     "name": "stdout",
     "output_type": "stream",
     "text": [
      "Enter name:aj\n",
      "Enter age:19\n",
      "Hello World I Am aj I am 19\n"
     ]
    }
   ],
   "source": [
    "class A:\n",
    "    def __init__(self,name,age):\n",
    "        self.name=name\n",
    "        self.age=age\n",
    "        \n",
    "class B(A):\n",
    "    def info(self):\n",
    "        print(f'Hello World I Am {self.name} I am {self.age}')\n",
    "    \n",
    "name=input(\"Enter name:\")\n",
    "age=int(input(\"Enter age:\"))\n",
    "obj=B(name,age)\n",
    "obj.info()"
   ]
  },
  {
   "cell_type": "code",
   "execution_count": 8,
   "id": "ae3aeefd",
   "metadata": {},
   "outputs": [
    {
     "name": "stdout",
     "output_type": "stream",
     "text": [
      "Enter name:age\n",
      "Enter age:10\n",
      "Hello World I Am age I am 10\n"
     ]
    }
   ],
   "source": [
    "class A:\n",
    "    def __init__(self,age):\n",
    "        self.age=age\n",
    "        \n",
    "class B(A):\n",
    "    def __init__(self,name,age):\n",
    "        self.name=name\n",
    "        A.__init__(self,age)\n",
    "        \n",
    "    def info(self):\n",
    "        print(f'Hello World I Am {self.name} I am {self.age}')\n",
    "    \n",
    "name=input(\"Enter name:\")\n",
    "age=int(input(\"Enter age:\"))\n",
    "obj=B(name,age)\n",
    "obj.info()"
   ]
  },
  {
   "cell_type": "code",
   "execution_count": 9,
   "id": "7ff21646",
   "metadata": {},
   "outputs": [],
   "source": [
    "#Multi Level Inheritance\n",
    "class A:\n",
    "    pass\n",
    "class B(A):\n",
    "    pass\n",
    "class C(B):\n",
    "    pass\n",
    "\n",
    "obj=C()"
   ]
  },
  {
   "cell_type": "code",
   "execution_count": 12,
   "id": "170ce73b",
   "metadata": {},
   "outputs": [],
   "source": [
    "#Multiple Inheritance\n",
    "class A:\n",
    "    pass\n",
    "class B(A):\n",
    "    pass\n",
    "class C(A,B):\n",
    "    pass\n",
    "\n",
    "obj=C()"
   ]
  },
  {
   "cell_type": "code",
   "execution_count": 17,
   "id": "e4a4c2f5",
   "metadata": {},
   "outputs": [
    {
     "name": "stdout",
     "output_type": "stream",
     "text": [
      "Enter name:aj\n",
      "Enter age:19\n",
      "Enter address:ktm\n",
      "Hello World I Am aj.I am 19.I am from ktm\n"
     ]
    }
   ],
   "source": [
    "class A:\n",
    "    def __init__(self,add):\n",
    "        self.add=add\n",
    "class B(A):\n",
    "    def __init__(self,age,add):\n",
    "        self.age=age\n",
    "        A.__init__(self,add)\n",
    "    \n",
    "\n",
    "class C(B):\n",
    "    def __init__(self,name,age,add):\n",
    "        self.name=name\n",
    "        B.__init__(self,age,add)\n",
    "        \n",
    "    def info(self):\n",
    "        print(f'Hello World I Am {self.name}.I am {self.age}.I am from {self.add}')\n",
    "    \n",
    "name=input(\"Enter name:\")\n",
    "age=int(input(\"Enter age:\"))\n",
    "add=input(\"Enter address:\")\n",
    "obj=C(name,age,add)\n",
    "obj.info()"
   ]
  },
  {
   "cell_type": "code",
   "execution_count": 21,
   "id": "fd3e8ee5",
   "metadata": {},
   "outputs": [
    {
     "name": "stdout",
     "output_type": "stream",
     "text": [
      "Enter name:aj\n",
      "Enter age:19\n",
      "Enter address:ktm\n",
      "Hello World I Am aj.I am 19.I am from ktm\n"
     ]
    }
   ],
   "source": [
    "class A:\n",
    "    def __init__(self,add):\n",
    "        self.add=add\n",
    "class B:\n",
    "    def __init__(self,age):\n",
    "        self.age=age\n",
    "    \n",
    "class C(A,B):\n",
    "    def __init__(self,name,age,add):\n",
    "        self.name=name\n",
    "        A.__init__(self,add)\n",
    "        B.__init__(self,age)\n",
    "        \n",
    "    def info(self):\n",
    "        print(f'Hello World I Am {self.name}.I am {self.age}.I am from {self.add}')\n",
    "    \n",
    "name=input(\"Enter name:\")\n",
    "age=int(input(\"Enter age:\"))\n",
    "add=input(\"Enter address:\")\n",
    "obj=C(name,age,add)\n",
    "obj.info()"
   ]
  },
  {
   "cell_type": "code",
   "execution_count": 3,
   "id": "92e60f8e",
   "metadata": {},
   "outputs": [
    {
     "name": "stdout",
     "output_type": "stream",
     "text": [
      "Ram\n",
      "19\n",
      "KTM\n"
     ]
    }
   ],
   "source": [
    "#public members\n",
    "class info:\n",
    "    def __init__(self):\n",
    "        self.name=\"Ram\"\n",
    "        self.age=19\n",
    "        self.add=\"KTM\"\n",
    "obj=info()\n",
    "print(obj.name)\n",
    "print(obj.age)\n",
    "print(obj.add)"
   ]
  },
  {
   "cell_type": "code",
   "execution_count": 6,
   "id": "81a11a81",
   "metadata": {},
   "outputs": [
    {
     "name": "stdout",
     "output_type": "stream",
     "text": [
      "Ram\n",
      "19\n",
      "KTM\n"
     ]
    }
   ],
   "source": [
    "#protected members\n",
    "class info:\n",
    "    def __init__(self):\n",
    "        self._name=\"Ram\"\n",
    "        self._age=19\n",
    "        self._add=\"KTM\"\n",
    "obj=info()\n",
    "print(obj._name)\n",
    "print(obj._age)\n",
    "print(obj._add)"
   ]
  },
  {
   "cell_type": "code",
   "execution_count": 8,
   "id": "8abe9bbb",
   "metadata": {},
   "outputs": [
    {
     "ename": "AttributeError",
     "evalue": "'info' object has no attribute '__name'",
     "output_type": "error",
     "traceback": [
      "\u001b[1;31m---------------------------------------------------------------------------\u001b[0m",
      "\u001b[1;31mAttributeError\u001b[0m                            Traceback (most recent call last)",
      "Input \u001b[1;32mIn [8]\u001b[0m, in \u001b[0;36m<cell line: 8>\u001b[1;34m()\u001b[0m\n\u001b[0;32m      6\u001b[0m         \u001b[38;5;28mself\u001b[39m\u001b[38;5;241m.\u001b[39m__add\u001b[38;5;241m=\u001b[39m\u001b[38;5;124m\"\u001b[39m\u001b[38;5;124mKTM\u001b[39m\u001b[38;5;124m\"\u001b[39m\n\u001b[0;32m      7\u001b[0m obj\u001b[38;5;241m=\u001b[39minfo()\n\u001b[1;32m----> 8\u001b[0m \u001b[38;5;28mprint\u001b[39m(\u001b[43mobj\u001b[49m\u001b[38;5;241;43m.\u001b[39;49m\u001b[43m__name\u001b[49m)\n\u001b[0;32m      9\u001b[0m \u001b[38;5;28mprint\u001b[39m(obj\u001b[38;5;241m.\u001b[39m__age)\n\u001b[0;32m     10\u001b[0m \u001b[38;5;28mprint\u001b[39m(obj\u001b[38;5;241m.\u001b[39m__dd)\n",
      "\u001b[1;31mAttributeError\u001b[0m: 'info' object has no attribute '__name'"
     ]
    }
   ],
   "source": [
    "#private members\n",
    "class info:\n",
    "    def __init__(self):\n",
    "        self.__name=\"Ram\"\n",
    "        self.__age=19\n",
    "        self.__add=\"KTM\"\n",
    "obj=info()\n",
    "print(obj.__name)\n",
    "print(obj.__age)\n",
    "print(obj.__dd)"
   ]
  },
  {
   "cell_type": "code",
   "execution_count": 15,
   "id": "ee7f68ec",
   "metadata": {},
   "outputs": [
    {
     "name": "stdout",
     "output_type": "stream",
     "text": [
      "Enter name:aj\n",
      "Enter age:19\n",
      "Hello World I Am aj.\n",
      "I am 19\n"
     ]
    }
   ],
   "source": [
    "class A:\n",
    "    def __init__(self,name,age):\n",
    "        self._name=name\n",
    "        self.__age=age\n",
    "    def a(self):\n",
    "        print(f\"I am {self.__age}\")\n",
    "class B(A):\n",
    "    def info(self):\n",
    "        print(f'Hello World I Am {self._name}.')\n",
    "    \n",
    "name=input(\"Enter name:\")\n",
    "age=int(input(\"Enter age:\"))\n",
    "obj=B(name,age)\n",
    "obj.info()\n",
    "obj.a()"
   ]
  },
  {
   "cell_type": "code",
   "execution_count": 17,
   "id": "79d11027",
   "metadata": {},
   "outputs": [
    {
     "name": "stdout",
     "output_type": "stream",
     "text": [
      "Enter name:aj\n",
      "Enter age:19\n",
      "Enter address:ktm\n",
      "Hello World I Am aj.I am 19.I am from ktm\n"
     ]
    }
   ],
   "source": [
    "class A:\n",
    "    def __init__(self,add):\n",
    "        self._add=add\n",
    "class B:\n",
    "    def __init__(self,age):\n",
    "        self._age=age\n",
    "    \n",
    "class C(A,B):\n",
    "    def __init__(self,name,age,add):\n",
    "        self.__name=name\n",
    "        A.__init__(self,add)\n",
    "        B.__init__(self,age)\n",
    "        \n",
    "    def info(self):\n",
    "        print(f'Hello World I Am {self.__name}.I am {self._age}.I am from {self._add}')\n",
    "    \n",
    "name=input(\"Enter name:\")\n",
    "age=int(input(\"Enter age:\"))\n",
    "add=input(\"Enter address:\")\n",
    "obj=C(name,age,add)\n",
    "obj.info()"
   ]
  },
  {
   "cell_type": "code",
   "execution_count": 19,
   "id": "2581b469",
   "metadata": {},
   "outputs": [
    {
     "name": "stdout",
     "output_type": "stream",
     "text": [
      "Welcome to  BroadWay\n",
      "Here  Steve  learning  Java\n",
      "The review of  Steve  is  5\n"
     ]
    }
   ],
   "source": [
    "class Company:\n",
    "    def __init__(self, name, proj):\n",
    "        self.name = name \n",
    "        self._proj = proj\n",
    "\n",
    "    def show(self):\n",
    "        print(\"The code of the company is = \",self.ccode)\n",
    "class Emp(Company):\n",
    "    def __init__(self, eName, sal, cName, proj):\n",
    "        Company.__init__(self, cName, proj)\n",
    "        self.name = eName\n",
    "        self.__sal = sal\n",
    "\n",
    "    def show_sal(self):\n",
    "        print(\"The review of \",self.name,\" is \",self.__sal,)\n",
    "c = Company(\"BroadWay\", \"Java\")\n",
    "e = Emp(\"Steve\", 5, c.name, c._proj)\n",
    "print(\"Welcome to \", c.name)\n",
    "print(\"Here \", e.name,\" learning \",e._proj)\n",
    "e.show_sal()"
   ]
  },
  {
   "cell_type": "code",
   "execution_count": 20,
   "id": "bc31607b",
   "metadata": {},
   "outputs": [
    {
     "name": "stdout",
     "output_type": "stream",
     "text": [
      "Enter name:aj\n",
      "Enter age:19\n",
      "Enter address:ktm\n",
      "Hello World I Am aj.I am 19.I am from ktm\n"
     ]
    }
   ],
   "source": [
    "class A:\n",
    "    def __init__(self,add):\n",
    "        self._add=add\n",
    "class B:\n",
    "    def __init__(self,age):\n",
    "        self._age=age\n",
    "    \n",
    "class C(A,B):\n",
    "    def __init__(self,name,age,add):\n",
    "        self.__name=name\n",
    "        A.__init__(self,add)\n",
    "        B.__init__(self,age)\n",
    "        \n",
    "    def info(self):\n",
    "        print(f'Hello World I Am {self.__name}.I am {self._age}.I am from {self._add}')\n",
    "    \n",
    "name=input(\"Enter name:\")\n",
    "age=int(input(\"Enter age:\"))\n",
    "add=input(\"Enter address:\")\n",
    "obj=C(name,age,add)\n",
    "obj.info()"
   ]
  },
  {
   "cell_type": "code",
   "execution_count": 29,
   "id": "50d4168c",
   "metadata": {},
   "outputs": [
    {
     "name": "stdout",
     "output_type": "stream",
     "text": [
      "Enter name: aj\n",
      "Enter age:19\n",
      "Enter add:ktm\n",
      "Enter phone:1124124210\n",
      "I am aj.I am 19.I am from ktm.My Number is 1124124210\n"
     ]
    }
   ],
   "source": [
    "class A:\n",
    "    def __init__(self,add,phone):\n",
    "        self._add=add\n",
    "        self.__phone=phone\n",
    "    def my_phone(self):\n",
    "        return self.__phone\n",
    "        \n",
    "class B:\n",
    "    def __init__(self,age):\n",
    "        self._age=age\n",
    "class C(A,B):\n",
    "    def __init__(self,name,age,add,phone):\n",
    "        self.__name=name\n",
    "        A.__init__(self,add,phone)\n",
    "        B.__init__(self,age)\n",
    "   \n",
    "        print(f\"I am {self.__name}.I am {self._age}.I am from {self._add}.My Number is {super().my_phone()}\")\n",
    "\n",
    "name=input(\"Enter name: \")\n",
    "age=int(input(\"Enter age:\"))\n",
    "add=input(\"Enter add:\")\n",
    "phone=int(input(\"Enter phone:\"))\n",
    "\n",
    "obj=C(name,age,add,phone)\n"
   ]
  },
  {
   "cell_type": "code",
   "execution_count": null,
   "id": "45b45e1b",
   "metadata": {},
   "outputs": [],
   "source": []
  }
 ],
 "metadata": {
  "kernelspec": {
   "display_name": "Python 3 (ipykernel)",
   "language": "python",
   "name": "python3"
  },
  "language_info": {
   "codemirror_mode": {
    "name": "ipython",
    "version": 3
   },
   "file_extension": ".py",
   "mimetype": "text/x-python",
   "name": "python",
   "nbconvert_exporter": "python",
   "pygments_lexer": "ipython3",
   "version": "3.9.12"
  }
 },
 "nbformat": 4,
 "nbformat_minor": 5
}
