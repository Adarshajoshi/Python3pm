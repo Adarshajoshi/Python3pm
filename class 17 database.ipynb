{
 "cells": [
  {
   "cell_type": "code",
   "execution_count": 1,
   "id": "31c305c3",
   "metadata": {},
   "outputs": [
    {
     "name": "stdout",
     "output_type": "stream",
     "text": [
      "Collecting mysql-connector\n",
      "  Downloading mysql-connector-2.2.9.tar.gz (11.9 MB)\n",
      "Building wheels for collected packages: mysql-connector\n",
      "  Building wheel for mysql-connector (setup.py): started\n",
      "  Building wheel for mysql-connector (setup.py): finished with status 'done'\n",
      "  Created wheel for mysql-connector: filename=mysql_connector-2.2.9-cp39-cp39-win_amd64.whl size=247961 sha256=9578e53533bcabe0ee837402c49f717a16beeefd95f18506be49a0e4fd3c5aee\n",
      "  Stored in directory: c:\\users\\adarsha joshi\\appdata\\local\\pip\\cache\\wheels\\7b\\14\\39\\5aad423666e827dfe9a1fbcd111ac17171e7c9865d570780ce\n",
      "Successfully built mysql-connector\n",
      "Installing collected packages: mysql-connector\n",
      "Successfully installed mysql-connector-2.2.9\n"
     ]
    }
   ],
   "source": [
    "!pip install mysql-connector"
   ]
  },
  {
   "cell_type": "code",
   "execution_count": 3,
   "id": "de2730ea",
   "metadata": {},
   "outputs": [],
   "source": [
    "import mysql.connector\n",
    "database = mysql.connector.connect(\n",
    "    host=\"localhost\",\n",
    "    user=\"root\",\n",
    "    password=\"\",\n",
    "    database=\"python3pm\"\n",
    ")\n",
    "db = database.cursor()"
   ]
  },
  {
   "cell_type": "code",
   "execution_count": 5,
   "id": "27b6cf49",
   "metadata": {},
   "outputs": [
    {
     "name": "stdout",
     "output_type": "stream",
     "text": [
      "(1, 78, 82, 92, 88, 82, 413, 83.0, 'A', 'Hari')\n",
      "(2, 68, 82, 92, 88, 82, 413, 83.0, 'A', 'Harry')\n",
      "(3, 89, 78, 98, 67, 87, 430, 85.0, 'A', 'Mosh')\n"
     ]
    }
   ],
   "source": [
    "db.execute(\"SELECT * FROM student\")\n",
    "result =db.fetchall()\n",
    "for x in result:\n",
    "    print(x)"
   ]
  },
  {
   "cell_type": "code",
   "execution_count": 6,
   "id": "c1b62621",
   "metadata": {},
   "outputs": [
    {
     "data": {
      "text/plain": [
       "[(1, 'Hari', 413), (2, 'Harry', 413), (3, 'Mosh', 430)]"
      ]
     },
     "execution_count": 6,
     "metadata": {},
     "output_type": "execute_result"
    }
   ],
   "source": [
    "db.execute(\"SELECT sn,name,total FROM student\")\n",
    "result =db.fetchall()\n",
    "result"
   ]
  },
  {
   "cell_type": "code",
   "execution_count": 14,
   "id": "e590e818",
   "metadata": {},
   "outputs": [],
   "source": [
    "sql=f\"INSERT INTO student(SN, Physics, Chemistry, Math, English,Nepali,Total,Percentage,Grade,Name) VALUES (5,90,89,89,87,68,490,85,'A','Kevin')\"\n",
    "db.execute(sql)\n",
    "database.commit()\n"
   ]
  },
  {
   "cell_type": "code",
   "execution_count": 16,
   "id": "e0327d2b",
   "metadata": {},
   "outputs": [
    {
     "name": "stdout",
     "output_type": "stream",
     "text": [
      "(1, 78, 82, 92, 88, 82, 413, 83.0, 'A', 'Hari')\n",
      "(2, 68, 82, 92, 88, 82, 413, 83.0, 'A', 'Harry')\n",
      "(3, 89, 78, 98, 67, 87, 430, 85.0, 'A', 'Mosh')\n"
     ]
    }
   ],
   "source": [
    "sql = \"SELECT * FROM student WHERE math>=90\"\n",
    "db.execute(sql)\n",
    "\n",
    "result =db.fetchall()\n",
    "for x in result:\n",
    "    print(x)"
   ]
  },
  {
   "cell_type": "code",
   "execution_count": null,
   "id": "8dffdfb0",
   "metadata": {},
   "outputs": [
    {
     "name": "stdout",
     "output_type": "stream",
     "text": [
      "Enter the number of records\n"
     ]
    }
   ],
   "source": [
    "import mysql.connector\n",
    "database = mysql.connector.connect(\n",
    "    host=\"localhost\",\n",
    "    user=\"root\",\n",
    "    password=\"\",\n",
    "    database=\"python3pm\"\n",
    ")\n",
    "db = database.cursor()\n",
    "n=int(input(\"Enter the number of records\"))\n",
    "for i in range(n):\n",
    "    name=input(\"Enter name\")\n",
    "    physics=int(input('Enter physics marks'))\n",
    "    chemistry=int(input('Enter chemistry marks'))\n",
    "    english=int(input('Enter english marks'))\n",
    "    math=int(input('Enter math marks'))\n",
    "    nepali=int(input('Enter nepali marks'))\n",
    "    total=physics+chemistry+english+math+nepali\n",
    "    percentage=total/5\n",
    "    if percentage>=80:\n",
    "        grade='A'\n",
    "    elif percentage>=70:\n",
    "        grade=\"B\"\n",
    "    elif percentage>=60:\n",
    "        grade=\"C\"\n",
    "    else:\n",
    "        grade=\"D\"\n",
    "\n",
    "    sql=f\"INSERT INTO student(Physics, Chemistry, Math, English,Nepali,Total,Percentage,Grade,Name) VALUES ({physics},{chemistry},{math},{english},{nepali},{total},{percentage},'{grade}','{name}')\"\n",
    "    db.execute(sql)\n",
    "    database.commit()"
   ]
  },
  {
   "cell_type": "code",
   "execution_count": null,
   "id": "9978678c",
   "metadata": {},
   "outputs": [],
   "source": []
  }
 ],
 "metadata": {
  "kernelspec": {
   "display_name": "Python 3 (ipykernel)",
   "language": "python",
   "name": "python3"
  },
  "language_info": {
   "codemirror_mode": {
    "name": "ipython",
    "version": 3
   },
   "file_extension": ".py",
   "mimetype": "text/x-python",
   "name": "python",
   "nbconvert_exporter": "python",
   "pygments_lexer": "ipython3",
   "version": "3.9.12"
  }
 },
 "nbformat": 4,
 "nbformat_minor": 5
}
