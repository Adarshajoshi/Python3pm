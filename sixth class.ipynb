{
 "cells": [
  {
   "cell_type": "code",
   "execution_count": 1,
   "id": "361faab5",
   "metadata": {},
   "outputs": [
    {
     "name": "stdout",
     "output_type": "stream",
     "text": [
      "Enter the value of n2\n",
      "Enter the value of x asd\n",
      "Enter the value of x asd\n",
      "asdasd\n"
     ]
    }
   ],
   "source": [
    "s=str()\n",
    "i=0\n",
    "n=int(input(\"Enter the value of n\"))\n",
    "while i<n:\n",
    "    x=input(\"Enter the value of x \")\n",
    "    s=s+x\n",
    "    i=i+1\n",
    "print(s)"
   ]
  },
  {
   "cell_type": "code",
   "execution_count": 1,
   "id": "44c971d3",
   "metadata": {},
   "outputs": [
    {
     "name": "stdout",
     "output_type": "stream",
     "text": [
      "Enter the value of n5\n",
      "120\n"
     ]
    }
   ],
   "source": [
    "fac=1\n",
    "i=1\n",
    "n=int(input(\"Enter the value of n\"))\n",
    "while i<=n:\n",
    "    fac=fac*i\n",
    "    i=i+1\n",
    "    \n",
    "print(fac)"
   ]
  },
  {
   "cell_type": "code",
   "execution_count": 3,
   "id": "9df3a647",
   "metadata": {},
   "outputs": [
    {
     "name": "stdout",
     "output_type": "stream",
     "text": [
      "P\n",
      "y\n",
      "t\n",
      "h\n",
      "o\n",
      "n\n"
     ]
    }
   ],
   "source": [
    "i=0\n",
    "a=\"Python\"\n",
    "l=len(a)\n",
    "while i<l:\n",
    "    print(a[i])\n",
    "    i=i+1"
   ]
  },
  {
   "cell_type": "code",
   "execution_count": 4,
   "id": "0e8168d6",
   "metadata": {},
   "outputs": [
    {
     "name": "stdout",
     "output_type": "stream",
     "text": [
      "H\n",
      "e\n",
      "l\n",
      "l\n",
      "o\n",
      "W\n",
      "o\n",
      "r\n",
      "l\n",
      "d\n",
      "I\n",
      "a\n",
      "m\n",
      "P\n",
      "y\n",
      "t\n",
      "h\n",
      "o\n",
      "n\n"
     ]
    }
   ],
   "source": [
    "i=0\n",
    "a=\"Hello World I am Python\"\n",
    "l=len(a)\n",
    "while i<l:\n",
    "    if a[i]!=\" \":\n",
    "        print(a[i])\n",
    "    i=i+1"
   ]
  },
  {
   "cell_type": "code",
   "execution_count": 2,
   "id": "fe08bc35",
   "metadata": {},
   "outputs": [
    {
     "name": "stdout",
     "output_type": "stream",
     "text": [
      "H\n",
      "e\n",
      "l\n",
      "l\n",
      "o\n",
      "W\n",
      "o\n",
      "r\n",
      "l\n",
      "d\n",
      "I\n",
      "a\n",
      "m\n",
      "P\n",
      "y\n",
      "t\n",
      "h\n",
      "o\n",
      "n\n"
     ]
    }
   ],
   "source": [
    "i=0\n",
    "a=\"Hello World I am Python\"\n",
    "l=len(a)\n",
    "while i<l:\n",
    "    if a[i]==\" \":\n",
    "        i=i+1\n",
    "        continue\n",
    "    print(a[i])\n",
    "    i=i+1"
   ]
  },
  {
   "cell_type": "code",
   "execution_count": 3,
   "id": "f4d38fd1",
   "metadata": {},
   "outputs": [
    {
     "name": "stdout",
     "output_type": "stream",
     "text": [
      "the number of spaces is 4\n"
     ]
    }
   ],
   "source": [
    "n=0\n",
    "i=0\n",
    "a=\"Hello World I am Python\"\n",
    "l=len(a)\n",
    "while i<l:\n",
    "    if a[i]==\" \":\n",
    "        n=n+1\n",
    "    i=i+1\n",
    "print(f\"the number of spaces is {n}\")\n",
    "    "
   ]
  },
  {
   "cell_type": "code",
   "execution_count": 8,
   "id": "ce91adad",
   "metadata": {},
   "outputs": [
    {
     "name": "stdout",
     "output_type": "stream",
     "text": [
      "Hello5\n",
      "World11\n",
      "I13\n",
      "am16\n",
      "Python"
     ]
    }
   ],
   "source": [
    "i=0\n",
    "a=\"Hello World I am Python\"\n",
    "l=len(a)\n",
    "while i<l:\n",
    "    if a[i]==\" \":\n",
    "        print(i)\n",
    "        i=i+1\n",
    "        continue\n",
    "    print(a[i],end=\"\")\n",
    "    i=i+1"
   ]
  },
  {
   "cell_type": "code",
   "execution_count": 9,
   "id": "4b261ab1",
   "metadata": {},
   "outputs": [
    {
     "name": "stdout",
     "output_type": "stream",
     "text": [
      "0 0\n",
      "0 1\n",
      "1 0\n",
      "1 1\n"
     ]
    }
   ],
   "source": [
    "#nested loop\n",
    "\n",
    "for i in range(2):\n",
    "    for j in range(2):\n",
    "        print(i,j)"
   ]
  },
  {
   "cell_type": "code",
   "execution_count": 10,
   "id": "c6cc69e7",
   "metadata": {},
   "outputs": [],
   "source": [
    "#prime and composite\n",
    "#fibonacci series using for\n"
   ]
  },
  {
   "cell_type": "code",
   "execution_count": 1,
   "id": "b46c1834",
   "metadata": {},
   "outputs": [
    {
     "name": "stdout",
     "output_type": "stream",
     "text": [
      "Enter the value of n21\n",
      "It is composite\n"
     ]
    }
   ],
   "source": [
    "i=2\n",
    "n=int(input(\"Enter the value of n\"))\n",
    "while i<n:\n",
    "    if n%i==0:\n",
    "        print(\"It is composite\")\n",
    "        break\n",
    "    else:\n",
    "        i=i+1\n",
    "else:\n",
    "    print(\"It is prime\")"
   ]
  },
  {
   "cell_type": "code",
   "execution_count": 3,
   "id": "401ccbe9",
   "metadata": {},
   "outputs": [
    {
     "name": "stdout",
     "output_type": "stream",
     "text": [
      "Enter the number of terms5\n",
      "1\n",
      "1\n",
      "2\n",
      "3\n",
      "5\n"
     ]
    }
   ],
   "source": [
    "a=1\n",
    "b=1\n",
    "c=1\n",
    "n=int(input(\"Enter the number of terms\"))\n",
    "print(b)\n",
    "for i in range(n-1):\n",
    "        print(c)\n",
    "        c=a+b\n",
    "        a=b\n",
    "        b=c"
   ]
  },
  {
   "cell_type": "code",
   "execution_count": null,
   "id": "9f2b4b20",
   "metadata": {},
   "outputs": [],
   "source": []
  },
  {
   "cell_type": "code",
   "execution_count": null,
   "id": "7a3daed2",
   "metadata": {},
   "outputs": [],
   "source": []
  }
 ],
 "metadata": {
  "kernelspec": {
   "display_name": "Python 3 (ipykernel)",
   "language": "python",
   "name": "python3"
  },
  "language_info": {
   "codemirror_mode": {
    "name": "ipython",
    "version": 3
   },
   "file_extension": ".py",
   "mimetype": "text/x-python",
   "name": "python",
   "nbconvert_exporter": "python",
   "pygments_lexer": "ipython3",
   "version": "3.9.12"
  }
 },
 "nbformat": 4,
 "nbformat_minor": 5
}
