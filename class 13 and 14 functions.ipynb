{
 "cells": [
  {
   "cell_type": "code",
   "execution_count": 1,
   "id": "786c733e",
   "metadata": {},
   "outputs": [],
   "source": [
    "#functions\n"
   ]
  },
  {
   "cell_type": "code",
   "execution_count": 2,
   "id": "e6bd05cc",
   "metadata": {},
   "outputs": [],
   "source": [
    "#pre defined functions\n",
    "# print() ,type(),str() list() tuple()"
   ]
  },
  {
   "cell_type": "code",
   "execution_count": 14,
   "id": "f3ed43ac",
   "metadata": {},
   "outputs": [],
   "source": [
    "#def <function_name>():\n",
    "#    <operation>\n",
    "    \n",
    "#<function_name>()\n"
   ]
  },
  {
   "cell_type": "code",
   "execution_count": null,
   "id": "841f9c9a",
   "metadata": {},
   "outputs": [],
   "source": [
    "#function with no argument and no return type\n",
    "#function with argument and no return type\n",
    "#function with argument and return type\n",
    "#function with no argument and return type"
   ]
  },
  {
   "cell_type": "code",
   "execution_count": null,
   "id": "d7b10766",
   "metadata": {},
   "outputs": [],
   "source": [
    "#function with no argument and no return type"
   ]
  },
  {
   "cell_type": "code",
   "execution_count": 6,
   "id": "4b2d9d84",
   "metadata": {},
   "outputs": [
    {
     "name": "stdout",
     "output_type": "stream",
     "text": [
      "Hello World\n"
     ]
    }
   ],
   "source": [
    "def hello():\n",
    "    print(\"Hello World\")\n",
    "    \n",
    "hello()\n",
    "\n"
   ]
  },
  {
   "cell_type": "code",
   "execution_count": 9,
   "id": "31ea13dd",
   "metadata": {},
   "outputs": [
    {
     "name": "stdout",
     "output_type": "stream",
     "text": [
      "Enter l=10\n",
      "ENter the value of b23\n",
      "230\n"
     ]
    }
   ],
   "source": [
    "def cal():\n",
    "    l=int(input(\"Enter l=\"))\n",
    "    b=int(input(\"ENter the value of b\"))\n",
    "    a=l*b\n",
    "    print(a)\n",
    "cal()\n"
   ]
  },
  {
   "cell_type": "code",
   "execution_count": 10,
   "id": "bc87e52d",
   "metadata": {},
   "outputs": [
    {
     "name": "stdout",
     "output_type": "stream",
     "text": [
      "Enter l=10\n",
      "ENter the value of b20\n",
      "200\n",
      "10 20\n"
     ]
    }
   ],
   "source": [
    "l=int(input(\"Enter l=\"))\n",
    "b=int(input(\"ENter the value of b\"))\n",
    "\n",
    "def cal():\n",
    "    a=l*b\n",
    "    print(a)\n",
    "\n",
    "cal()\n",
    "print(l,b)\n"
   ]
  },
  {
   "cell_type": "code",
   "execution_count": 13,
   "id": "aa94c2c6",
   "metadata": {},
   "outputs": [
    {
     "name": "stdout",
     "output_type": "stream",
     "text": [
      "Enter l=1\n",
      "ENter the value of b2\n",
      "2\n",
      "1 2 2\n"
     ]
    }
   ],
   "source": [
    "def cal():\n",
    "    global l,b,a\n",
    "    l=int(input(\"Enter l=\"))\n",
    "    b=int(input(\"ENter the value of b\"))\n",
    "    a=l*b\n",
    "    print(a)\n",
    "cal()\n",
    "print(l,b,a)"
   ]
  },
  {
   "cell_type": "code",
   "execution_count": 15,
   "id": "e3bb2aa1",
   "metadata": {},
   "outputs": [],
   "source": [
    "#function with argument and no return type"
   ]
  },
  {
   "cell_type": "code",
   "execution_count": 16,
   "id": "fd2b7346",
   "metadata": {},
   "outputs": [
    {
     "name": "stdout",
     "output_type": "stream",
     "text": [
      "Enter l=1\n",
      "ENter the value of b2\n",
      "2\n"
     ]
    }
   ],
   "source": [
    "def cal(l,b):\n",
    "    a=l*b\n",
    "    print(a)\n",
    "\n",
    "\n",
    "l=int(input(\"Enter l=\"))\n",
    "b=int(input(\"ENter the value of b\"))\n",
    "cal(l,b)"
   ]
  },
  {
   "cell_type": "code",
   "execution_count": 19,
   "id": "039d2fcf",
   "metadata": {},
   "outputs": [
    {
     "name": "stdout",
     "output_type": "stream",
     "text": [
      "Enter l=2\n",
      "ENter the value of b3\n",
      "enter h=4\n",
      "24\n"
     ]
    }
   ],
   "source": [
    "def cal(data):\n",
    "    v=l*b*h\n",
    "    print(v)\n",
    "\n",
    "\n",
    "l=int(input(\"Enter l=\"))\n",
    "b=int(input(\"ENter the value of b\"))\n",
    "h=int(input(\"enter h=\"))\n",
    "data=(l,b,h)\n",
    "cal(data)"
   ]
  },
  {
   "cell_type": "code",
   "execution_count": 22,
   "id": "2b162ea9",
   "metadata": {},
   "outputs": [
    {
     "name": "stdout",
     "output_type": "stream",
     "text": [
      "PHP\n",
      "C++\n",
      "Java\n",
      "C\n",
      "python\n"
     ]
    }
   ],
   "source": [
    "#default value problem\n",
    "def language(lan=\"python\"):\n",
    "    print(lan)\n",
    "    \n",
    "language(\"PHP\")\n",
    "language(\"C++\")\n",
    "language(\"Java\")\n",
    "language(\"C\")\n",
    "language()"
   ]
  },
  {
   "cell_type": "code",
   "execution_count": 23,
   "id": "50c74eb5",
   "metadata": {},
   "outputs": [],
   "source": [
    "#function with no argument and return type"
   ]
  },
  {
   "cell_type": "code",
   "execution_count": 28,
   "id": "4dc934be",
   "metadata": {},
   "outputs": [
    {
     "name": "stdout",
     "output_type": "stream",
     "text": [
      "240\n"
     ]
    }
   ],
   "source": [
    "def cal():\n",
    "    l=10\n",
    "    b=12\n",
    "    a=l*b\n",
    "    return a\n",
    "h=2\n",
    "area=cal()\n",
    "vol=area*h\n",
    "print(vol)"
   ]
  },
  {
   "cell_type": "code",
   "execution_count": 33,
   "id": "15d4ea4d",
   "metadata": {},
   "outputs": [
    {
     "name": "stdout",
     "output_type": "stream",
     "text": [
      "The area is = 120\n",
      "the volume is= 240\n"
     ]
    }
   ],
   "source": [
    "def cal():\n",
    "    l=10\n",
    "    b=12\n",
    "    h=2\n",
    "    a=l*b\n",
    "    v=a*h\n",
    "    return a,v\n",
    "\n",
    "x=cal()\n",
    "ar,vol=x\n",
    "print(\"The area is =\",ar)\n",
    "print(\"the volume is=\",vol)\n"
   ]
  },
  {
   "cell_type": "code",
   "execution_count": 34,
   "id": "6a8d1a1c",
   "metadata": {},
   "outputs": [],
   "source": [
    "#function with argument and return type"
   ]
  },
  {
   "cell_type": "code",
   "execution_count": 35,
   "id": "d19bdc29",
   "metadata": {},
   "outputs": [
    {
     "name": "stdout",
     "output_type": "stream",
     "text": [
      "The area is = 120\n",
      "the volume is= 240\n"
     ]
    }
   ],
   "source": [
    "def cal(l,b,h):\n",
    "    \n",
    "    a=l*b\n",
    "    v=a*h\n",
    "    return a,v\n",
    "\n",
    "l=10\n",
    "b=12\n",
    "h=2\n",
    "x=cal(l,b,h)\n",
    "ar,vol=x\n",
    "print(\"The area is =\",ar)\n",
    "print(\"the volume is=\",vol)"
   ]
  },
  {
   "cell_type": "code",
   "execution_count": 1,
   "id": "1feaa6bb",
   "metadata": {},
   "outputs": [],
   "source": [
    "#recurssive function"
   ]
  },
  {
   "cell_type": "code",
   "execution_count": 3,
   "id": "f998db00",
   "metadata": {},
   "outputs": [
    {
     "name": "stdout",
     "output_type": "stream",
     "text": [
      "Hello World\n"
     ]
    }
   ],
   "source": [
    "def hello():\n",
    "    print(\"Hello World\")\n",
    "    \n",
    "hello()"
   ]
  },
  {
   "cell_type": "code",
   "execution_count": 2,
   "id": "eca776bc",
   "metadata": {},
   "outputs": [
    {
     "name": "stdout",
     "output_type": "stream",
     "text": [
      "Hello World\n",
      "Enter x=y\n",
      "Hello World\n",
      "Enter x=y\n",
      "Hello World\n",
      "Enter x=y\n",
      "Hello World\n",
      "Enter x=y\n",
      "Hello World\n",
      "Enter x=\n"
     ]
    }
   ],
   "source": [
    "def hello():\n",
    "    print(\"Hello World\")\n",
    "    x=input(\"Enter x=\")\n",
    "    if x=='y':\n",
    "        hello()\n",
    "    \n",
    "hello()"
   ]
  },
  {
   "cell_type": "code",
   "execution_count": 3,
   "id": "aeca9aff",
   "metadata": {},
   "outputs": [
    {
     "name": "stdout",
     "output_type": "stream",
     "text": [
      "Enter a=1\n",
      "Enter b=2\n",
      "+ - / *+\n",
      "3\n",
      "Enter y for more operationy\n",
      "Enter a=1\n",
      "Enter b=2\n",
      "+ - / *-\n",
      "-1\n",
      "Enter y for more operation2131\n"
     ]
    }
   ],
   "source": [
    "def cal():\n",
    "    a=int(input(\"Enter a=\"))\n",
    "    b=int(input(\"Enter b=\"))\n",
    "    o=input(\"+ - / *\")\n",
    "    if o==\"+\":\n",
    "        c=a+b\n",
    "    elif o==\"/\":\n",
    "        c=a/b\n",
    "    elif o==\"-\":\n",
    "        c=a-b\n",
    "    elif o==\"*\":\n",
    "        c=a*b\n",
    "    else:\n",
    "        print(\"Invalid operator\")\n",
    "    print(c)\n",
    "    x=input(\"Enter y for more operation\")\n",
    "    \n",
    "    if x==\"y\":\n",
    "        cal()\n",
    "cal()"
   ]
  },
  {
   "cell_type": "code",
   "execution_count": 4,
   "id": "7ace9338",
   "metadata": {},
   "outputs": [],
   "source": [
    "#math function\n",
    "\n",
    "\n"
   ]
  },
  {
   "cell_type": "code",
   "execution_count": 5,
   "id": "449dfc94",
   "metadata": {},
   "outputs": [
    {
     "name": "stdout",
     "output_type": "stream",
     "text": [
      "3.141592653589793\n"
     ]
    }
   ],
   "source": [
    "import math as m\n",
    "print(m.pi)"
   ]
  },
  {
   "cell_type": "code",
   "execution_count": 7,
   "id": "52ab43ee",
   "metadata": {},
   "outputs": [
    {
     "data": {
      "text/plain": [
       "120"
      ]
     },
     "execution_count": 7,
     "metadata": {},
     "output_type": "execute_result"
    }
   ],
   "source": [
    "m.factorial(5)"
   ]
  },
  {
   "cell_type": "code",
   "execution_count": 9,
   "id": "4f0064fe",
   "metadata": {},
   "outputs": [
    {
     "data": {
      "text/plain": [
       "1.0"
      ]
     },
     "execution_count": 9,
     "metadata": {},
     "output_type": "execute_result"
    }
   ],
   "source": [
    "m.sin(m.pi/2)"
   ]
  },
  {
   "cell_type": "code",
   "execution_count": 12,
   "id": "e5a80995",
   "metadata": {},
   "outputs": [
    {
     "name": "stdout",
     "output_type": "stream",
     "text": [
      "Enter the vlue of r=7\n",
      "153.93804002589985\n"
     ]
    }
   ],
   "source": [
    "r=float(input(\"Enter the vlue of r=\"))\n",
    "a=m.pi*m.pow(r,2)\n",
    "print(a)"
   ]
  },
  {
   "cell_type": "code",
   "execution_count": 15,
   "id": "74f4eedf",
   "metadata": {},
   "outputs": [
    {
     "name": "stdout",
     "output_type": "stream",
     "text": [
      "Enter the mass: 1\n",
      "Enter the acceleration: 2\n",
      "2.0\n"
     ]
    }
   ],
   "source": [
    "import math\n",
    "M=float(input(\"Enter the mass: \"))\n",
    "a=float(input(\"Enter the acceleration: \"))\n",
    "f=M*a*math.sin(math.pi/2)\n",
    "print(f)"
   ]
  },
  {
   "cell_type": "code",
   "execution_count": 16,
   "id": "1ddadd21",
   "metadata": {},
   "outputs": [
    {
     "name": "stdout",
     "output_type": "stream",
     "text": [
      "Enter a=12\n",
      "Enter b=34\n",
      "+ - / *-\n",
      "-22\n",
      "Enter y for more operation1\n"
     ]
    }
   ],
   "source": [
    "def add(a,b):\n",
    "    return a+b\n",
    "def sub(a,b):\n",
    "    return a-b\n",
    "def mul(a,b):\n",
    "    return a*b\n",
    "def div(a,b):\n",
    "    return a/b\n",
    "\n",
    "def cal():\n",
    "    a=int(input(\"Enter a=\"))\n",
    "    b=int(input(\"Enter b=\"))\n",
    "    o=input(\"+ - / *\")\n",
    "    if o==\"+\":\n",
    "        c=add(a,b)\n",
    "    elif o==\"/\":\n",
    "        c=div(a,b)\n",
    "    elif o==\"-\":\n",
    "        c=sub(a,b)\n",
    "    elif o==\"*\":\n",
    "        c=mul(a,b)\n",
    "    else:\n",
    "        print(\"Invalid operator\")\n",
    "    print(c)\n",
    "    x=input(\"Enter y for more operation\")\n",
    "    \n",
    "    if x==\"y\":\n",
    "        cal()\n",
    "cal()"
   ]
  },
  {
   "cell_type": "code",
   "execution_count": 20,
   "id": "6c8df86c",
   "metadata": {},
   "outputs": [
    {
     "name": "stdout",
     "output_type": "stream",
     "text": [
      "Enter the value of n2\n",
      "Enter product nameapple\n",
      "Enter price120\n",
      "Enter quantity12\n",
      "Enter product namemango\n",
      "Enter price12\n",
      "Enter quantity123\n",
      "apple 120 12 1440\n",
      "mango 12 123 1476\n",
      "\n"
     ]
    }
   ],
   "source": [
    "bill=\"\"\n",
    "n=int(input(\"Enter the value of n\"))\n",
    "def billing():\n",
    "    global bill\n",
    "    product=input(\"Enter product name\")\n",
    "    pr_price=int(input(\"Enter price\"))\n",
    "    quan=int(input(\"Enter quantity\"))\n",
    "    total=pr_price*quan\n",
    "    info=f\"{product} { pr_price} {quan} {total}\\n\"\n",
    "    bill=bill+info\n",
    "for i in range(n):\n",
    "    billing()\n",
    "print(bill)"
   ]
  },
  {
   "cell_type": "code",
   "execution_count": 23,
   "id": "05c52e6b",
   "metadata": {},
   "outputs": [
    {
     "name": "stdout",
     "output_type": "stream",
     "text": [
      "Enter the value of n2\n",
      "Enter product nameapple\n",
      "Enter price100\n",
      "Enter quantity120\n",
      "Enter product namemango\n",
      "Enter price100\n",
      "Enter quantity120\n",
      "apple 100 120 12000\n",
      "mango 100 120 12000\n",
      "\n",
      "grand total is 24000\n"
     ]
    }
   ],
   "source": [
    "grandtotal=0\n",
    "bill=\"\"\n",
    "n=int(input(\"Enter the value of n\"))\n",
    "def billing(product,pr_price,quan,total):\n",
    "    global bill,grandtotal\n",
    "    info=f\"{product} { pr_price} {quan} {total}\\n\"\n",
    "    bill=bill+info\n",
    "    grandtotal=grandtotal+total\n",
    "    \n",
    "for i in range(n):\n",
    "    product=input(\"Enter product name\")\n",
    "    pr_price=int(input(\"Enter price\"))\n",
    "    quan=int(input(\"Enter quantity\"))\n",
    "    total=pr_price*quan\n",
    "    billing(product,pr_price,quan,total)\n",
    "print(bill)\n",
    "print(f'grand total is',grandtotal)"
   ]
  },
  {
   "cell_type": "code",
   "execution_count": null,
   "id": "38cf69fd",
   "metadata": {},
   "outputs": [],
   "source": []
  }
 ],
 "metadata": {
  "kernelspec": {
   "display_name": "Python 3 (ipykernel)",
   "language": "python",
   "name": "python3"
  },
  "language_info": {
   "codemirror_mode": {
    "name": "ipython",
    "version": 3
   },
   "file_extension": ".py",
   "mimetype": "text/x-python",
   "name": "python",
   "nbconvert_exporter": "python",
   "pygments_lexer": "ipython3",
   "version": "3.9.12"
  }
 },
 "nbformat": 4,
 "nbformat_minor": 5
}
