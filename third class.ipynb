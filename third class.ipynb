{
 "cells": [
  {
   "cell_type": "code",
   "execution_count": 1,
   "id": "6f8b90d0",
   "metadata": {},
   "outputs": [
    {
     "ename": "SyntaxError",
     "evalue": "invalid syntax (3655108153.py, line 1)",
     "output_type": "error",
     "traceback": [
      "\u001b[1;36m  Input \u001b[1;32mIn [1]\u001b[1;36m\u001b[0m\n\u001b[1;33m    if<condition>:\u001b[0m\n\u001b[1;37m      ^\u001b[0m\n\u001b[1;31mSyntaxError\u001b[0m\u001b[1;31m:\u001b[0m invalid syntax\n"
     ]
    }
   ],
   "source": [
    "if<condition>:\n",
    "    <operation>\n",
    "elif <condition>:\n",
    "    <operation>\n",
    "...\n",
    "else:\n",
    "<operation> "
   ]
  },
  {
   "cell_type": "code",
   "execution_count": 3,
   "id": "d94c6516",
   "metadata": {},
   "outputs": [
    {
     "name": "stdout",
     "output_type": "stream",
     "text": [
      "12\n",
      "a is greater\n"
     ]
    }
   ],
   "source": [
    "n=10\n",
    "a=int(input())\n",
    "if a>n:\n",
    "    print(\"a is greater\")\n",
    "else:\n",
    "    print(\"a is smaller\")"
   ]
  },
  {
   "cell_type": "code",
   "execution_count": 4,
   "id": "eecef4a9",
   "metadata": {},
   "outputs": [
    {
     "name": "stdout",
     "output_type": "stream",
     "text": [
      "Enter a number10\n",
      "It is even\n"
     ]
    }
   ],
   "source": [
    "n=int(input(\"Enter a number\"))\n",
    "if n%2==0:\n",
    "    print(\"It is even\")\n",
    "else:\n",
    "    print(\"It is odd\")"
   ]
  },
  {
   "cell_type": "code",
   "execution_count": 5,
   "id": "bc6112ae",
   "metadata": {
    "scrolled": true
   },
   "outputs": [
    {
     "name": "stdout",
     "output_type": "stream",
     "text": [
      "Enter the value of n10\n",
      "Enter the value of a10\n",
      "both are equal\n"
     ]
    }
   ],
   "source": [
    "n=int(input('Enter the value of n'))\n",
    "a=int(input(\"Enter the value of a\"))\n",
    "if a>n:\n",
    "    print(\"a is greater\")\n",
    "elif a==n:\n",
    "    print(\"both are equal\")\n",
    "else:\n",
    "    print(\"a is smaller\")"
   ]
  },
  {
   "cell_type": "code",
   "execution_count": 2,
   "id": "1607a6c0",
   "metadata": {},
   "outputs": [
    {
     "name": "stdout",
     "output_type": "stream",
     "text": [
      "Enter the marks of physics:10\n",
      "Enter the marks of chemistry:101\n",
      "Enter the marks of math:10\n",
      "Enter the marks of english:10\n",
      "Enter the marks of nepali:10\n",
      "total 141\n",
      "percentage 28.2\n",
      "grade F\n"
     ]
    }
   ],
   "source": [
    "phy=int(input(\"Enter the marks of physics:\"))\n",
    "che=int(input(\"Enter the marks of chemistry:\"))\n",
    "math=int(input(\"Enter the marks of math:\"))\n",
    "eng=int(input(\"Enter the marks of english:\"))\n",
    "nep=int(input(\"Enter the marks of nepali:\"))\n",
    "\n",
    "total=phy+che+math+eng+nep\n",
    "per=total/5\n",
    "\n",
    "if per>=80:\n",
    "    grade=\"A\"\n",
    "elif per>=60:\n",
    "    grade=\"B\"\n",
    "elif per>=45:\n",
    "    grade=\"C\"\n",
    "else:\n",
    "    grade=\"F\"\n",
    "    \n",
    "print(\"total\",total)\n",
    "print(\"percentage\",per)\n",
    "print(\"grade\",grade)\n",
    "    \n",
    "\n",
    "\n",
    "\n"
   ]
  },
  {
   "cell_type": "code",
   "execution_count": 9,
   "id": "894e4e86",
   "metadata": {},
   "outputs": [
    {
     "name": "stdout",
     "output_type": "stream",
     "text": [
      "Enter the value of a10\n",
      "Enter the value of b0\n",
      "Enter + - * / /\n",
      "Invalid\n"
     ]
    }
   ],
   "source": [
    "a=int(input(\"Enter the value of a\"))\n",
    "b=int(input(\"Enter the value of b\"))\n",
    "o=input(\"Enter + - * / \")\n",
    "if o==\"+\":\n",
    "    print(a+b)\n",
    "elif o==\"-\":\n",
    "    print(a-b)\n",
    "elif o==\"*\":\n",
    "    print(a*b)\n",
    "elif o==\"/\":\n",
    "    if b==0:\n",
    "        print(\"Invalid\")\n",
    "    else:\n",
    "        print(a/b)\n",
    "else:\n",
    "    print(\"invalid operator\")\n",
    "    "
   ]
  },
  {
   "cell_type": "code",
   "execution_count": 4,
   "id": "c6ffd49f",
   "metadata": {},
   "outputs": [],
   "source": [
    "# and->&\n",
    "# or->|"
   ]
  },
  {
   "cell_type": "code",
   "execution_count": 8,
   "id": "b1eef993",
   "metadata": {},
   "outputs": [
    {
     "data": {
      "text/plain": [
       "True"
      ]
     },
     "execution_count": 8,
     "metadata": {},
     "output_type": "execute_result"
    }
   ],
   "source": [
    "True or False"
   ]
  },
  {
   "cell_type": "code",
   "execution_count": 11,
   "id": "cf08b7ec",
   "metadata": {},
   "outputs": [
    {
     "name": "stdout",
     "output_type": "stream",
     "text": [
      "Enter the value of a10\n",
      "Enter the value of b0\n",
      "Enter + - * / /\n",
      "Invalid\n"
     ]
    }
   ],
   "source": [
    "a=int(input(\"Enter the value of a\"))\n",
    "b=int(input(\"Enter the value of b\"))\n",
    "o=input(\"Enter + - * / \")\n",
    "if o==\"+\":\n",
    "    print(a+b)\n",
    "elif o==\"-\":\n",
    "    print(a-b)\n",
    "elif o==\"*\":\n",
    "    print(a*b)\n",
    "elif o==\"/\" and b==0:\n",
    "    print(\"Invalid\")\n",
    "elif o==\"/\" and b!=0:\n",
    "    print(a/b)\n",
    "else:\n",
    "    print(\"invalid operator\")\n",
    "    "
   ]
  },
  {
   "cell_type": "code",
   "execution_count": null,
   "id": "038075cd",
   "metadata": {},
   "outputs": [],
   "source": []
  }
 ],
 "metadata": {
  "kernelspec": {
   "display_name": "Python 3 (ipykernel)",
   "language": "python",
   "name": "python3"
  },
  "language_info": {
   "codemirror_mode": {
    "name": "ipython",
    "version": 3
   },
   "file_extension": ".py",
   "mimetype": "text/x-python",
   "name": "python",
   "nbconvert_exporter": "python",
   "pygments_lexer": "ipython3",
   "version": "3.9.12"
  }
 },
 "nbformat": 4,
 "nbformat_minor": 5
}
