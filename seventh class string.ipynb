{
 "cells": [
  {
   "cell_type": "code",
   "execution_count": 1,
   "id": "cbad923c",
   "metadata": {},
   "outputs": [],
   "source": [
    "#string"
   ]
  },
  {
   "cell_type": "code",
   "execution_count": 4,
   "id": "7e5d45fd",
   "metadata": {},
   "outputs": [
    {
     "name": "stdout",
     "output_type": "stream",
     "text": [
      "<class 'str'>\n",
      "<class 'str'>\n",
      "<class 'str'>\n"
     ]
    }
   ],
   "source": [
    "a=\"Python\"\n",
    "b='Python'\n",
    "c='''Python'''\n",
    "print(type(a))\n",
    "print(type(b))\n",
    "print(type(c))"
   ]
  },
  {
   "cell_type": "code",
   "execution_count": 6,
   "id": "99923f8d",
   "metadata": {},
   "outputs": [
    {
     "name": "stdout",
     "output_type": "stream",
     "text": [
      "Enter a=adeawr\n",
      "adeawr\n"
     ]
    }
   ],
   "source": [
    "a=input(\"Enter a=\")\n",
    "print(a)"
   ]
  },
  {
   "cell_type": "code",
   "execution_count": 7,
   "id": "4d386fa0",
   "metadata": {},
   "outputs": [
    {
     "name": "stdout",
     "output_type": "stream",
     "text": [
      "Enter a=hello\n",
      "Enter b=python\n",
      "hellopython\n"
     ]
    }
   ],
   "source": [
    "a=input(\"Enter a=\")\n",
    "b=input(\"Enter b=\")\n",
    "print(a+b)"
   ]
  },
  {
   "cell_type": "code",
   "execution_count": 8,
   "id": "a59a2a47",
   "metadata": {},
   "outputs": [
    {
     "name": "stdout",
     "output_type": "stream",
     "text": [
      "Hello World\n",
      "Hello World\n",
      "\n"
     ]
    }
   ],
   "source": [
    "a=\"Hello World\\n\"\n",
    "print(a*2)"
   ]
  },
  {
   "cell_type": "code",
   "execution_count": 10,
   "id": "41e48363",
   "metadata": {},
   "outputs": [
    {
     "name": "stdout",
     "output_type": "stream",
     "text": [
      "Hello I am Ram.I am 15.I am from kathmandu\n"
     ]
    }
   ],
   "source": [
    "#string formatting\n",
    "name=\"Ram\"\n",
    "age=15\n",
    "add=\"kathmandu\"\n",
    "print(f\"Hello I am {name}.I am {age}.I am from {add}\")"
   ]
  },
  {
   "cell_type": "code",
   "execution_count": 1,
   "id": "89ec7ed8",
   "metadata": {},
   "outputs": [
    {
     "name": "stdout",
     "output_type": "stream",
     "text": [
      "Enter th value of n2\n",
      "Enter product namecoke\n",
      "Enter price150\n",
      "Enter quantity10\n",
      "Enter product namemomo\n",
      "Enter price123\n",
      "Enter quantity12\n",
      "coke 150 10 1500\n",
      "momo 123 12 1476\n",
      "\n"
     ]
    }
   ],
   "source": [
    "bill=\"\"\n",
    "n=int(input(\"Enter the value of n\"))\n",
    "for i in range(n):\n",
    "    product=input(\"Enter product name\")\n",
    "    pr_price=int(input(\"Enter price\"))\n",
    "    quan=int(input(\"Enter quantity\"))\n",
    "    total=pr_price*quan\n",
    "    info=f\"{product} { pr_price} {quan} {total}\\n\"\n",
    "    bill=bill+info\n",
    "print(bill)"
   ]
  },
  {
   "cell_type": "code",
   "execution_count": 11,
   "id": "5fba6671",
   "metadata": {},
   "outputs": [
    {
     "name": "stdout",
     "output_type": "stream",
     "text": [
      "Hello  World I am Python\n",
      "\n"
     ]
    }
   ],
   "source": [
    "#string slicing\n",
    "a=\"Hello World I am Python\"\n",
    "b=a[0:5]\n",
    "c=a[5:]\n",
    "print(b,c)"
   ]
  },
  {
   "cell_type": "code",
   "execution_count": 17,
   "id": "39507f47",
   "metadata": {},
   "outputs": [
    {
     "data": {
      "text/plain": [
       "'thon'"
      ]
     },
     "execution_count": 17,
     "metadata": {},
     "output_type": "execute_result"
    }
   ],
   "source": [
    "a=\"Python\"\n",
    "a[2:]"
   ]
  },
  {
   "cell_type": "code",
   "execution_count": 18,
   "id": "0b3081d1",
   "metadata": {},
   "outputs": [
    {
     "data": {
      "text/plain": [
       "'HloWrdIa y'"
      ]
     },
     "execution_count": 18,
     "metadata": {},
     "output_type": "execute_result"
    }
   ],
   "source": [
    "a=\"Hello World I am Python\"\n",
    "a[0:20:2]"
   ]
  },
  {
   "cell_type": "code",
   "execution_count": 21,
   "id": "8fc3de80",
   "metadata": {},
   "outputs": [
    {
     "name": "stdout",
     "output_type": "stream",
     "text": [
      "nohtyP ma I dlroW olleH\n"
     ]
    }
   ],
   "source": [
    "a=\"Hello World I am Python\"\n",
    "print(a[::-1])"
   ]
  },
  {
   "cell_type": "code",
   "execution_count": 31,
   "id": "25b4df7c",
   "metadata": {},
   "outputs": [
    {
     "name": "stdout",
     "output_type": "stream",
     "text": [
      "Enter search=Ram\n",
      "Yes\n",
      "1\n",
      "0\n"
     ]
    }
   ],
   "source": [
    "a=\"Ram Shyam Hari\"\n",
    "b=input(\"Enter search=\")\n",
    "if b in a:\n",
    "    print(\"Yes\")\n",
    "    print(a.count(b))\n",
    "    print(a.find(b))\n"
   ]
  },
  {
   "cell_type": "code",
   "execution_count": 32,
   "id": "e32c200d",
   "metadata": {},
   "outputs": [
    {
     "name": "stdout",
     "output_type": "stream",
     "text": [
      "RAM SHYAM HARI\n",
      "ram shyam hari\n",
      "Ram shyam hari\n"
     ]
    }
   ],
   "source": [
    "a=\"Ram Shyam Hari\"\n",
    "print(a.upper())\n",
    "print(a.lower())\n",
    "print(a.capitalize())"
   ]
  },
  {
   "cell_type": "code",
   "execution_count": 33,
   "id": "1d57e1cd",
   "metadata": {},
   "outputs": [
    {
     "name": "stdout",
     "output_type": "stream",
     "text": [
      "Enter search=ram\n",
      "Yes\n",
      "2\n",
      "0\n"
     ]
    }
   ],
   "source": [
    "a=\"Ram Shyam Hari ram\".lower()\n",
    "b=input(\"Enter search=\").lower()\n",
    "if b in a:\n",
    "    print(\"Yes\")\n",
    "    print(a.count(b))\n"
   ]
  },
  {
   "cell_type": "code",
   "execution_count": 38,
   "id": "4020aeee",
   "metadata": {},
   "outputs": [
    {
     "name": "stdout",
     "output_type": "stream",
     "text": [
      " Shyam Hari \n",
      "ram Shyam Hari ram\n"
     ]
    }
   ],
   "source": [
    "a=\"Ram Shyam Hari Ram\"\n",
    "b=a.replace('Ram','')\n",
    "print(b)\n",
    "print(a.replace('Ram','ram'))"
   ]
  },
  {
   "cell_type": "code",
   "execution_count": 39,
   "id": "5880b237",
   "metadata": {},
   "outputs": [
    {
     "name": "stdout",
     "output_type": "stream",
     "text": [
      "['Ram', 'Shyam', 'Hari', 'Ram']\n"
     ]
    }
   ],
   "source": [
    "a=\"Ram Shyam Hari Ram\"\n",
    "print(a.split())"
   ]
  },
  {
   "cell_type": "code",
   "execution_count": 40,
   "id": "451849c0",
   "metadata": {},
   "outputs": [
    {
     "name": "stdout",
     "output_type": "stream",
     "text": [
      "Ram Shyam Hari Ram\n"
     ]
    }
   ],
   "source": [
    "a=\"Ram Shyam Hari Ram\"\n",
    "print(a.title())"
   ]
  },
  {
   "cell_type": "code",
   "execution_count": null,
   "id": "8ad74c8e",
   "metadata": {},
   "outputs": [],
   "source": []
  }
 ],
 "metadata": {
  "kernelspec": {
   "display_name": "Python 3 (ipykernel)",
   "language": "python",
   "name": "python3"
  },
  "language_info": {
   "codemirror_mode": {
    "name": "ipython",
    "version": 3
   },
   "file_extension": ".py",
   "mimetype": "text/x-python",
   "name": "python",
   "nbconvert_exporter": "python",
   "pygments_lexer": "ipython3",
   "version": "3.9.12"
  }
 },
 "nbformat": 4,
 "nbformat_minor": 5
}
