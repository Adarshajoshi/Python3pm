{
 "cells": [
  {
   "cell_type": "code",
   "execution_count": 3,
   "id": "ef4ef785",
   "metadata": {},
   "outputs": [
    {
     "name": "stdout",
     "output_type": "stream",
     "text": [
      "[[1, 3, 2], [4, 5, 6], [7, 8, 9]]\n",
      "<class 'list'>\n"
     ]
    }
   ],
   "source": [
    "a=[\n",
    "    [1,3,2],\n",
    "    [4,5,6],\n",
    "    [7,8,9]]\n",
    "print(a)\n",
    "print(type(a))"
   ]
  },
  {
   "cell_type": "code",
   "execution_count": 4,
   "id": "6c750238",
   "metadata": {},
   "outputs": [
    {
     "data": {
      "text/plain": [
       "9"
      ]
     },
     "execution_count": 4,
     "metadata": {},
     "output_type": "execute_result"
    }
   ],
   "source": [
    "a[2][2]"
   ]
  },
  {
   "cell_type": "code",
   "execution_count": 5,
   "id": "71aad4a9",
   "metadata": {},
   "outputs": [
    {
     "data": {
      "text/plain": [
       "[['Ram', 18, 'ktm'], ['hari', 24, 'Bkt'], ['hari', 21, 'Lalitpur']]"
      ]
     },
     "execution_count": 5,
     "metadata": {},
     "output_type": "execute_result"
    }
   ],
   "source": [
    "a=[\n",
    "    [\"Ram\",18,\"ktm\"],\n",
    "    [\"hari\",24,'Bkt'],\n",
    "    [\"hari\",21,\"Lalitpur\"]\n",
    "]\n",
    "a"
   ]
  },
  {
   "cell_type": "code",
   "execution_count": 6,
   "id": "575e9d1c",
   "metadata": {},
   "outputs": [
    {
     "data": {
      "text/plain": [
       "['hari', 24, 'Bkt']"
      ]
     },
     "execution_count": 6,
     "metadata": {},
     "output_type": "execute_result"
    }
   ],
   "source": [
    "a[1]"
   ]
  },
  {
   "cell_type": "code",
   "execution_count": 7,
   "id": "261c29a4",
   "metadata": {},
   "outputs": [
    {
     "data": {
      "text/plain": [
       "['hari', 21, 'Lalitpur']"
      ]
     },
     "execution_count": 7,
     "metadata": {},
     "output_type": "execute_result"
    }
   ],
   "source": [
    "a[2]"
   ]
  },
  {
   "cell_type": "code",
   "execution_count": 11,
   "id": "1dfb6967",
   "metadata": {},
   "outputs": [
    {
     "name": "stdout",
     "output_type": "stream",
     "text": [
      "Enter n=2\n",
      "Enter name=aj\n",
      "Enter age=18\n",
      "Enter address=ktm\n",
      "Enter name=jose\n",
      "Enter age=26\n",
      "Enter address=por\n",
      "[['aj', 18, 'ktm'], ['jose', 26, 'por']]\n"
     ]
    }
   ],
   "source": [
    "a=[]\n",
    "n=int(input(\"Enter n=\"))\n",
    "for i in range(n):\n",
    "    name=input(\"Enter name=\")\n",
    "    age=int(input(\"Enter age=\"))\n",
    "    add=input(\"Enter address=\")\n",
    "    i=[name,age,add]\n",
    "    a.append(i)\n",
    "    \n",
    "print(a)"
   ]
  },
  {
   "cell_type": "code",
   "execution_count": 14,
   "id": "fb115626",
   "metadata": {},
   "outputs": [
    {
     "data": {
      "text/plain": [
       "[['aj', 18, 'ktm'], ('Ram', 12, 'Arg')]"
      ]
     },
     "execution_count": 14,
     "metadata": {},
     "output_type": "execute_result"
    }
   ],
   "source": [
    "a=[['aj', 18, 'ktm'], ['jose', 26, 'por']]\n",
    "a[1]=('Ram',12,'Arg')\n",
    "a"
   ]
  },
  {
   "cell_type": "code",
   "execution_count": 15,
   "id": "0eb23532",
   "metadata": {},
   "outputs": [
    {
     "name": "stdout",
     "output_type": "stream",
     "text": [
      "['aj', 18, 'ktm']\n",
      "['jose', 26, 'por']\n"
     ]
    }
   ],
   "source": [
    "a=[['aj', 18, 'ktm'], ['jose', 26, 'por']]\n",
    "for i in a:\n",
    "    print(i)"
   ]
  },
  {
   "cell_type": "code",
   "execution_count": 18,
   "id": "ecf6707b",
   "metadata": {},
   "outputs": [
    {
     "name": "stdout",
     "output_type": "stream",
     "text": [
      "Enter namejose\n",
      "['jose', 26, 'por']\n"
     ]
    }
   ],
   "source": [
    "a=[['aj', 18, 'ktm'], ['jose', 26, 'por'],['aj', 24, 'dhg']]\n",
    "sea=input(\"Enter name\")\n",
    "for i in a:\n",
    "    if sea in i:\n",
    "        print(i)"
   ]
  },
  {
   "cell_type": "code",
   "execution_count": 20,
   "id": "28b625f5",
   "metadata": {},
   "outputs": [
    {
     "name": "stdout",
     "output_type": "stream",
     "text": [
      "Enter nameaj\n",
      "['aj', 18, 'ktm']\n",
      "['aj', 24, 'dhg']\n",
      "2\n"
     ]
    }
   ],
   "source": [
    "a=[['aj', 18, 'ktm'], ['jose', 26, 'por'],['aj', 24, 'dhg']]\n",
    "sea=input(\"Enter name\")\n",
    "c=0\n",
    "for i in a:\n",
    "    if sea in i:\n",
    "        c=c+1\n",
    "        print(i)\n",
    "        \n",
    "print(c)"
   ]
  },
  {
   "cell_type": "code",
   "execution_count": 2,
   "id": "2f503b5f",
   "metadata": {},
   "outputs": [
    {
     "name": "stdout",
     "output_type": "stream",
     "text": [
      "Enter the number of rows2\n",
      "Enter the number of column2\n",
      "x=1\n",
      "x=2\n",
      "x=3\n",
      "x=4\n",
      "[[1, 2], [3, 4]]\n"
     ]
    }
   ],
   "source": [
    "#create a matrix using with row and column\n",
    "r=int(input(\"Enter the number of rows\"))\n",
    "c=int(input(\"Enter the number of column\"))\n",
    "a=[]\n",
    "for i in range(r):\n",
    "    y=[]\n",
    "    for j in range(c):\n",
    "        x=int(input(\"x=\"))\n",
    "        y.append(x)\n",
    "    a.append(y)\n",
    "print(a)\n",
    "        \n",
    "        \n",
    "\n"
   ]
  },
  {
   "cell_type": "code",
   "execution_count": 3,
   "id": "48b422f6",
   "metadata": {},
   "outputs": [
    {
     "data": {
      "text/plain": [
       "[0, 1, 2, 3, 4]"
      ]
     },
     "execution_count": 3,
     "metadata": {},
     "output_type": "execute_result"
    }
   ],
   "source": [
    "a=[i for i in range(5) ]\n",
    "a\n",
    "    "
   ]
  },
  {
   "cell_type": "code",
   "execution_count": 5,
   "id": "9ad6b0a4",
   "metadata": {},
   "outputs": [
    {
     "data": {
      "text/plain": [
       "[1, 2, 3, 4, 5, 6, 7, 8, 9, 10, 11, 12, 13, 14, 15, 16, 17, 18, 19, 20]"
      ]
     },
     "execution_count": 5,
     "metadata": {},
     "output_type": "execute_result"
    }
   ],
   "source": [
    "a=[i for i in range(1,21) ]\n",
    "a"
   ]
  },
  {
   "cell_type": "code",
   "execution_count": 6,
   "id": "44493af3",
   "metadata": {},
   "outputs": [
    {
     "data": {
      "text/plain": [
       "[2, 4, 6, 8, 10, 12, 14, 16, 18, 20]"
      ]
     },
     "execution_count": 6,
     "metadata": {},
     "output_type": "execute_result"
    }
   ],
   "source": [
    "a=[i for i in range(1,21) if i%2==0]\n",
    "a"
   ]
  },
  {
   "cell_type": "code",
   "execution_count": 14,
   "id": "0d7fe2ca",
   "metadata": {},
   "outputs": [
    {
     "data": {
      "text/plain": [
       "['APPLE']"
      ]
     },
     "execution_count": 14,
     "metadata": {},
     "output_type": "execute_result"
    }
   ],
   "source": [
    "a=['APPLE','Ball','cat','Dog']\n",
    "b=[i for i in a if i.isupper()]\n",
    "b"
   ]
  },
  {
   "cell_type": "code",
   "execution_count": 17,
   "id": "5e39aafe",
   "metadata": {},
   "outputs": [
    {
     "name": "stdout",
     "output_type": "stream",
     "text": [
      "enter the number of items2\n",
      "Enter name=apple\n",
      "Enter price=100\n",
      "Enter quantity=12\n",
      "Enter name=banana\n",
      "Enter price=12\n",
      "Enter quantity=123\n",
      "['name', 'price', 'quan', 'total']\n",
      "[['apple', 100, 12, 1200], ['banana', 12, 123, 1476]]\n",
      "[['apple', 100, 12, 1200], ['banana', 12, 123, 1476]]\n"
     ]
    }
   ],
   "source": [
    "a=[]\n",
    "n=int(input(\"enter the number of items\"))\n",
    "for i in range(n):\n",
    "    name=input(\"Enter name=\")\n",
    "    price=int(input(\"Enter price=\"))\n",
    "    quan=int(input(\"Enter quantity=\"))\n",
    "    info=[name,price,quan,price*quan]\n",
    "    a.append(info)\n",
    "b=['name','price','quan','total']\n",
    "print(b)\n",
    "for i in a:\n",
    "    print(a)"
   ]
  },
  {
   "cell_type": "code",
   "execution_count": null,
   "id": "e97e23b1",
   "metadata": {},
   "outputs": [],
   "source": []
  }
 ],
 "metadata": {
  "kernelspec": {
   "display_name": "Python 3 (ipykernel)",
   "language": "python",
   "name": "python3"
  },
  "language_info": {
   "codemirror_mode": {
    "name": "ipython",
    "version": 3
   },
   "file_extension": ".py",
   "mimetype": "text/x-python",
   "name": "python",
   "nbconvert_exporter": "python",
   "pygments_lexer": "ipython3",
   "version": "3.9.12"
  }
 },
 "nbformat": 4,
 "nbformat_minor": 5
}
