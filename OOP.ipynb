{
 "cells": [
  {
   "cell_type": "code",
   "execution_count": 1,
   "id": "02091717",
   "metadata": {},
   "outputs": [
    {
     "name": "stdout",
     "output_type": "stream",
     "text": [
      "Hello World\n"
     ]
    }
   ],
   "source": [
    "class Hello:\n",
    "    print('Hello World')\n",
    "\n",
    "obj=Hello()"
   ]
  },
  {
   "cell_type": "code",
   "execution_count": 5,
   "id": "c4e2cd2a",
   "metadata": {},
   "outputs": [
    {
     "name": "stdout",
     "output_type": "stream",
     "text": [
      "Hello World\n"
     ]
    }
   ],
   "source": [
    "class Hello:            #class\n",
    "    def hello(self):        #method\n",
    "        print('Hello World')\n",
    "        \n",
    "obj=Hello()             #object\n",
    "obj.hello()"
   ]
  },
  {
   "cell_type": "code",
   "execution_count": 6,
   "id": "c38f7493",
   "metadata": {},
   "outputs": [
    {
     "name": "stdout",
     "output_type": "stream",
     "text": [
      "Hello World\n"
     ]
    }
   ],
   "source": [
    "class Hello:            #class\n",
    "    @staticmethod       #decorator\n",
    "    def hello():        #method\n",
    "        print('Hello World')\n",
    "        \n",
    "obj=Hello()             #object\n",
    "obj.hello()"
   ]
  },
  {
   "cell_type": "code",
   "execution_count": 1,
   "id": "5c6aac1e",
   "metadata": {},
   "outputs": [
    {
     "name": "stdout",
     "output_type": "stream",
     "text": [
      "Enter P:10000\n",
      "Enter T:2\n",
      "Enter R:10\n",
      "2000.0\n"
     ]
    }
   ],
   "source": [
    "class Cal:\n",
    "    def cal(self,p,t,r):\n",
    "        i=p*t*r/100\n",
    "        print(i)\n",
    "        \n",
    "p=int(input(\"Enter P:\"))\n",
    "t=int(input(\"Enter T:\"))\n",
    "r=float(input(\"Enter R:\"))\n",
    "obj=Cal()        \n",
    "obj.cal(p,t,r)"
   ]
  },
  {
   "cell_type": "code",
   "execution_count": 4,
   "id": "1cda5263",
   "metadata": {},
   "outputs": [
    {
     "name": "stdout",
     "output_type": "stream",
     "text": [
      "Enter length:10\n",
      "Enter breadth:20\n",
      "Enter height:30\n",
      "200\n",
      "6000\n"
     ]
    }
   ],
   "source": [
    "class Cal:\n",
    "    def area(self,l,b):\n",
    "        a=l*b\n",
    "        print(a)\n",
    "    def volume(self,l,b,h):\n",
    "        v=l*b*h\n",
    "        print(v)\n",
    "        \n",
    "l=int(input(\"Enter length:\"))\n",
    "b=int(input(\"Enter breadth:\"))\n",
    "h=int(input(\"Enter height:\"))\n",
    "obj=Cal()\n",
    "obj.area(l,b)\n",
    "obj.volume(l,b,h)"
   ]
  },
  {
   "cell_type": "code",
   "execution_count": 9,
   "id": "1804fbec",
   "metadata": {},
   "outputs": [
    {
     "name": "stdout",
     "output_type": "stream",
     "text": [
      "Enter P:10\n",
      "Enter T:20\n",
      "Enter R:30\n",
      "60.0\n"
     ]
    }
   ],
   "source": [
    "class Cal:\n",
    "    def __init__(self,p,t,r):\n",
    "        self.p=p\n",
    "        self.t=t\n",
    "        self.r=r\n",
    "    def cal(self):\n",
    "        i=p*t*r/100\n",
    "        print(i)\n",
    "        \n",
    "p=int(input(\"Enter P:\"))\n",
    "t=int(input(\"Enter T:\"))\n",
    "r=float(input(\"Enter R:\"))\n",
    "obj=Cal(p,t,r)        \n",
    "obj.cal()"
   ]
  },
  {
   "cell_type": "code",
   "execution_count": 10,
   "id": "cbbb4269",
   "metadata": {},
   "outputs": [
    {
     "name": "stdout",
     "output_type": "stream",
     "text": [
      "Enter P:10\n",
      "Enter T:20\n",
      "Enter R:30\n",
      "60.0\n"
     ]
    }
   ],
   "source": [
    "class Cal:\n",
    "    def __init__(self,p,t,r):\n",
    "        self.p=p\n",
    "        self.t=t\n",
    "        self.r=r\n",
    "    def cal(self):\n",
    "        i=self.p*self.t*self.r/100\n",
    "        print(i)\n",
    "        \n",
    "p=int(input(\"Enter P:\"))\n",
    "t=int(input(\"Enter T:\"))\n",
    "r=float(input(\"Enter R:\"))\n",
    "obj=Cal(p,t,r)        \n",
    "obj.cal()"
   ]
  },
  {
   "cell_type": "code",
   "execution_count": 11,
   "id": "a0c570c2",
   "metadata": {},
   "outputs": [
    {
     "name": "stdout",
     "output_type": "stream",
     "text": [
      "Enter length:10\n",
      "Enter breadth:20\n",
      "Enter height:30\n",
      "200\n",
      "6000\n"
     ]
    }
   ],
   "source": [
    "class Cal:\n",
    "    def __init__(self,l,b,h):\n",
    "        self.l=l\n",
    "        self.b=b\n",
    "        self.h=h\n",
    "    def area(self):\n",
    "        a=l*b\n",
    "        print(a)\n",
    "    def volume(self):\n",
    "        v=l*b*h\n",
    "        print(v)\n",
    "        \n",
    "l=int(input(\"Enter length:\"))\n",
    "b=int(input(\"Enter breadth:\"))\n",
    "h=int(input(\"Enter height:\"))\n",
    "obj=Cal(l,b,h)\n",
    "obj.area()\n",
    "obj.volume()"
   ]
  },
  {
   "cell_type": "code",
   "execution_count": null,
   "id": "764fe543",
   "metadata": {},
   "outputs": [],
   "source": []
  }
 ],
 "metadata": {
  "kernelspec": {
   "display_name": "Python 3 (ipykernel)",
   "language": "python",
   "name": "python3"
  },
  "language_info": {
   "codemirror_mode": {
    "name": "ipython",
    "version": 3
   },
   "file_extension": ".py",
   "mimetype": "text/x-python",
   "name": "python",
   "nbconvert_exporter": "python",
   "pygments_lexer": "ipython3",
   "version": "3.9.12"
  }
 },
 "nbformat": 4,
 "nbformat_minor": 5
}
