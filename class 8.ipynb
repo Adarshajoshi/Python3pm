{
 "cells": [
  {
   "cell_type": "code",
   "execution_count": 1,
   "id": "a1b18de1",
   "metadata": {},
   "outputs": [],
   "source": [
    "#Python collection\n",
    "#lists\n",
    "#tuple\n",
    "#dictionary\n",
    "#set"
   ]
  },
  {
   "cell_type": "code",
   "execution_count": 2,
   "id": "64bcda33",
   "metadata": {},
   "outputs": [],
   "source": [
    "#List\n",
    "#-Indexed\n",
    "#-Ordered\n",
    "#-Multiple values\n",
    "#-mutable"
   ]
  },
  {
   "cell_type": "code",
   "execution_count": 3,
   "id": "2bc84ce1",
   "metadata": {},
   "outputs": [
    {
     "name": "stdout",
     "output_type": "stream",
     "text": [
      "['apple', 'ball', 'cat'] [1, 2, 3, 4] []\n",
      "<class 'list'>\n",
      "<class 'list'>\n",
      "<class 'list'>\n"
     ]
    }
   ],
   "source": [
    "a=['apple','ball','cat']\n",
    "b=[1,2,3,4]\n",
    "c=[]\n",
    "print(a,b,c)\n",
    "print(type(a))\n",
    "print(type(b))\n",
    "print(type(c))"
   ]
  },
  {
   "cell_type": "code",
   "execution_count": 7,
   "id": "c1a1b0e2",
   "metadata": {},
   "outputs": [
    {
     "data": {
      "text/plain": [
       "'dog'"
      ]
     },
     "execution_count": 7,
     "metadata": {},
     "output_type": "execute_result"
    }
   ],
   "source": [
    "a=['apple','ball','cat','dog']\n",
    "a[0:3]\n",
    "a[-1]"
   ]
  },
  {
   "cell_type": "code",
   "execution_count": 8,
   "id": "d777b035",
   "metadata": {},
   "outputs": [
    {
     "data": {
      "text/plain": [
       "[0, 1, 2, 3]"
      ]
     },
     "execution_count": 8,
     "metadata": {},
     "output_type": "execute_result"
    }
   ],
   "source": [
    "a=[0,1,2,3,4,5,6,7,8,9]\n",
    "a[0:4]"
   ]
  },
  {
   "cell_type": "code",
   "execution_count": 10,
   "id": "b3817734",
   "metadata": {},
   "outputs": [
    {
     "data": {
      "text/plain": [
       "[0, 2, 4, 6, 8]"
      ]
     },
     "execution_count": 10,
     "metadata": {},
     "output_type": "execute_result"
    }
   ],
   "source": [
    "a=[0,1,2,3,4,5,6,7,8,9]\n",
    "a[0:10:2]"
   ]
  },
  {
   "cell_type": "code",
   "execution_count": 11,
   "id": "08234480",
   "metadata": {},
   "outputs": [
    {
     "name": "stdout",
     "output_type": "stream",
     "text": [
      "['H', 'e', 'l', 'l', 'o', ' ', 'W', 'o', 'r', 'l', 'd']\n"
     ]
    }
   ],
   "source": [
    "a=\"Hello World\"\n",
    "print(list(a))"
   ]
  },
  {
   "cell_type": "code",
   "execution_count": 13,
   "id": "61183979",
   "metadata": {},
   "outputs": [
    {
     "name": "stdout",
     "output_type": "stream",
     "text": [
      "['apple', 'ball', 'cat', 'dog', 1, 2, 3, 4, 5]\n"
     ]
    }
   ],
   "source": [
    "a=['apple','ball','cat','dog']\n",
    "b=[1,2,3,4,5]\n",
    "c=a+b\n",
    "print(c)"
   ]
  },
  {
   "cell_type": "code",
   "execution_count": 3,
   "id": "22574c26",
   "metadata": {},
   "outputs": [
    {
     "name": "stdout",
     "output_type": "stream",
     "text": [
      "['apple', 'ball', 'apple', 'ball']\n"
     ]
    }
   ],
   "source": [
    "a=['apple','ball']\n",
    "print(a*2)"
   ]
  },
  {
   "cell_type": "code",
   "execution_count": 16,
   "id": "317138e2",
   "metadata": {},
   "outputs": [
    {
     "name": "stdout",
     "output_type": "stream",
     "text": [
      "[1, 2, 3, 4, 5, 1, 2, 3, 4, 5]\n"
     ]
    }
   ],
   "source": [
    "b=[1,2,3,4,5]\n",
    "print(b*2)"
   ]
  },
  {
   "cell_type": "code",
   "execution_count": 19,
   "id": "5a4345c0",
   "metadata": {},
   "outputs": [
    {
     "name": "stdout",
     "output_type": "stream",
     "text": [
      "['APPLE', 'ball', 'cat', 'dog']\n"
     ]
    }
   ],
   "source": [
    "a=['apple','ball','cat','dog']\n",
    "a[0]='APPLE'\n",
    "print(a)"
   ]
  },
  {
   "cell_type": "code",
   "execution_count": 20,
   "id": "54dd7984",
   "metadata": {},
   "outputs": [
    {
     "name": "stdout",
     "output_type": "stream",
     "text": [
      "['apple', 'ball', 'cat', 'dog', 'APPLE']\n"
     ]
    }
   ],
   "source": [
    "a=['apple','ball','cat','dog']\n",
    "a.append('APPLE')\n",
    "print(a)"
   ]
  },
  {
   "cell_type": "code",
   "execution_count": 24,
   "id": "45966aea",
   "metadata": {},
   "outputs": [
    {
     "name": "stdout",
     "output_type": "stream",
     "text": [
      "['apple', 'bat', 'ball', 'cat', 'dog']\n"
     ]
    }
   ],
   "source": [
    "a=['apple','ball','cat','dog']\n",
    "a.insert(1,'bat')\n",
    "print(a)"
   ]
  },
  {
   "cell_type": "code",
   "execution_count": 25,
   "id": "850da597",
   "metadata": {},
   "outputs": [
    {
     "name": "stdout",
     "output_type": "stream",
     "text": [
      "['apple', 'ball', 'cat', 'dog', 1, 2, 3, 4, 5]\n"
     ]
    }
   ],
   "source": [
    "a=['apple','ball','cat','dog']\n",
    "b=[1,2,3,4,5]\n",
    "a.extend(b)\n",
    "print(a)"
   ]
  },
  {
   "cell_type": "code",
   "execution_count": 27,
   "id": "1a124b8c",
   "metadata": {},
   "outputs": [
    {
     "data": {
      "text/plain": [
       "['ball', 'cat', 'dog']"
      ]
     },
     "execution_count": 27,
     "metadata": {},
     "output_type": "execute_result"
    }
   ],
   "source": [
    "a=['apple','ball','cat','dog']\n",
    "a.remove('apple')\n",
    "a"
   ]
  },
  {
   "cell_type": "code",
   "execution_count": 30,
   "id": "6a6b62f2",
   "metadata": {},
   "outputs": [
    {
     "data": {
      "text/plain": [
       "['apple', 'ball', 'cat', 1, 2, 3, 4, 5, 'dog']"
      ]
     },
     "execution_count": 30,
     "metadata": {},
     "output_type": "execute_result"
    }
   ],
   "source": [
    "a=['apple','ball','cat','dog']\n",
    "b=[1,2,3,4,5]\n",
    "c=a[0:3]+b+a[3:]\n",
    "c"
   ]
  },
  {
   "cell_type": "code",
   "execution_count": 38,
   "id": "30214725",
   "metadata": {},
   "outputs": [
    {
     "name": "stdout",
     "output_type": "stream",
     "text": [
      "Enter the value of n5\n",
      "Enter the value of x6\n",
      "Enter the value of x2\n",
      "Enter the value of x34\n",
      "Enter the value of x15\n",
      "Enter the value of x12\n",
      "[6, 2, 34, 15, 12]\n"
     ]
    }
   ],
   "source": [
    "l=[]\n",
    "n=int(input(\"Enter the value of n\"))\n",
    "for i in range(n):\n",
    "    x=int(input(\"Enter the value of x\"))\n",
    "    l.append(x)\n",
    "    \n",
    "print(l)\n",
    "    "
   ]
  },
  {
   "cell_type": "markdown",
   "id": "e5131ef9",
   "metadata": {},
   "source": []
  },
  {
   "cell_type": "code",
   "execution_count": 40,
   "id": "5239713e",
   "metadata": {},
   "outputs": [
    {
     "name": "stdout",
     "output_type": "stream",
     "text": [
      "Enter max value 34\n",
      "Enter min value 2\n",
      "Enter sum= 69\n",
      "[2, 6, 12, 15, 34]\n",
      "[34, 15, 12, 6, 2]\n"
     ]
    }
   ],
   "source": [
    "print(\"Enter max value\",max(l))\n",
    "print(\"Enter min value\",min(l))\n",
    "print(\"Enter sum=\",sum(l))\n",
    "l.sort()\n",
    "print(l)\n",
    "l.reverse()\n",
    "print(l)\n",
    "\n"
   ]
  },
  {
   "cell_type": "code",
   "execution_count": 1,
   "id": "2cf38f43",
   "metadata": {},
   "outputs": [
    {
     "name": "stdout",
     "output_type": "stream",
     "text": [
      "Enter the value of n4\n",
      "Enter the value of xram\n",
      "Enter the value of xshyam\n",
      "Enter the value of xhari\n",
      "Enter the value of xsita\n",
      "['ram', 'shyam', 'hari', 'sita']\n",
      "['hari', 'ram', 'shyam', 'sita']\n"
     ]
    }
   ],
   "source": [
    "l=[]\n",
    "n=int(input(\"Enter the value of n\"))\n",
    "for i in range(n):\n",
    "    x=input(\"Enter the value of x\")\n",
    "    l.append(x)\n",
    "    \n",
    "print(l)\n",
    "l.sort()\n",
    "print(l)"
   ]
  },
  {
   "cell_type": "code",
   "execution_count": 6,
   "id": "44a77a67",
   "metadata": {},
   "outputs": [
    {
     "name": "stdout",
     "output_type": "stream",
     "text": [
      "apple\n",
      "ball\n",
      "cat\n",
      "dog\n"
     ]
    }
   ],
   "source": [
    "a=['apple','ball','cat','dog']\n",
    "for i in a:\n",
    "    print(i)"
   ]
  },
  {
   "cell_type": "code",
   "execution_count": 10,
   "id": "1f9ed44c",
   "metadata": {},
   "outputs": [
    {
     "data": {
      "text/plain": [
       "['ball', 'cat', 'dog']"
      ]
     },
     "execution_count": 10,
     "metadata": {},
     "output_type": "execute_result"
    }
   ],
   "source": [
    "a=['apple','ball','cat','dog','apple']\n",
    "b=[]\n",
    "for i in a:\n",
    "    if i!=\"apple\":\n",
    "        b.append(i)\n",
    "        \n",
    "b\n",
    "        "
   ]
  },
  {
   "cell_type": "code",
   "execution_count": 11,
   "id": "40e76c35",
   "metadata": {},
   "outputs": [
    {
     "name": "stdout",
     "output_type": "stream",
     "text": [
      "Yes 2\n"
     ]
    }
   ],
   "source": [
    "a=['apple','ball','cat','dog','apple']\n",
    "if \"apple\" in a:\n",
    "    print(\"Yes\",a.count('apple'))\n",
    "else:\n",
    "    print(\"NO\")\n",
    "    "
   ]
  },
  {
   "cell_type": "code",
   "execution_count": 12,
   "id": "105702fe",
   "metadata": {},
   "outputs": [],
   "source": [
    "#del pop() remove()"
   ]
  },
  {
   "cell_type": "code",
   "execution_count": 16,
   "id": "983a0b1e",
   "metadata": {},
   "outputs": [
    {
     "name": "stdout",
     "output_type": "stream",
     "text": [
      "['ball', 'cat', 'dog', 'apple']\n",
      "ball\n"
     ]
    }
   ],
   "source": [
    "a=['apple','ball','cat','dog','apple']\n",
    "del a[0]\n",
    "print(a)\n",
    "print(a[0])"
   ]
  },
  {
   "cell_type": "code",
   "execution_count": 21,
   "id": "8688a430",
   "metadata": {},
   "outputs": [
    {
     "data": {
      "text/plain": [
       "['apple', 'ball', 'cat', 'dog']"
      ]
     },
     "execution_count": 21,
     "metadata": {},
     "output_type": "execute_result"
    }
   ],
   "source": [
    "a=['apple','ball','cat','dog','apple']\n",
    "a.pop()\n",
    "a"
   ]
  },
  {
   "cell_type": "code",
   "execution_count": 22,
   "id": "78332116",
   "metadata": {},
   "outputs": [
    {
     "name": "stdout",
     "output_type": "stream",
     "text": [
      "['apple', 'cat', 'dog', 'apple']\n",
      "ball\n"
     ]
    }
   ],
   "source": [
    "a=['apple','ball','cat','dog','apple']\n",
    "b=a.pop(1)\n",
    "print(a)\n",
    "print(b)"
   ]
  },
  {
   "cell_type": "code",
   "execution_count": 30,
   "id": "3892f46e",
   "metadata": {},
   "outputs": [
    {
     "name": "stdout",
     "output_type": "stream",
     "text": [
      "1\n"
     ]
    },
    {
     "data": {
      "text/plain": [
       "['ball', 'cat', 'dog', 'apple']"
      ]
     },
     "execution_count": 30,
     "metadata": {},
     "output_type": "execute_result"
    }
   ],
   "source": [
    "a=['apple','ball','cat','dog','apple']\n",
    "a.remove('apple')\n",
    "b=a.index('cat')\n",
    "print(b)\n",
    "a"
   ]
  },
  {
   "cell_type": "code",
   "execution_count": 31,
   "id": "aba6c8a7",
   "metadata": {},
   "outputs": [],
   "source": [
    "#find index of multiple values\n",
    "#to remove duplicate value"
   ]
  },
  {
   "cell_type": "code",
   "execution_count": 19,
   "id": "4a3eea2e",
   "metadata": {},
   "outputs": [
    {
     "name": "stdout",
     "output_type": "stream",
     "text": [
      "[1, 3, 2, 4, 5]\n"
     ]
    }
   ],
   "source": [
    "a=[1,3,2,1,4,3,2,5,3,5]\n",
    "uni=[]\n",
    "for i in a:\n",
    "    if i not in uni:\n",
    "        uni.append(i)\n",
    "print(uni)\n",
    "    "
   ]
  },
  {
   "cell_type": "code",
   "execution_count": null,
   "id": "ecd4c8a4",
   "metadata": {},
   "outputs": [],
   "source": []
  },
  {
   "cell_type": "code",
   "execution_count": null,
   "id": "b652302d",
   "metadata": {},
   "outputs": [],
   "source": []
  }
 ],
 "metadata": {
  "kernelspec": {
   "display_name": "Python 3 (ipykernel)",
   "language": "python",
   "name": "python3"
  },
  "language_info": {
   "codemirror_mode": {
    "name": "ipython",
    "version": 3
   },
   "file_extension": ".py",
   "mimetype": "text/x-python",
   "name": "python",
   "nbconvert_exporter": "python",
   "pygments_lexer": "ipython3",
   "version": "3.9.12"
  }
 },
 "nbformat": 4,
 "nbformat_minor": 5
}
