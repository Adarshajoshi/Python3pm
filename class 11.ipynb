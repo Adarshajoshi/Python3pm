{
 "cells": [
  {
   "cell_type": "code",
   "execution_count": 1,
   "id": "f8a7afcf",
   "metadata": {},
   "outputs": [],
   "source": [
    "#dict in list"
   ]
  },
  {
   "cell_type": "code",
   "execution_count": 5,
   "id": "72281ae1",
   "metadata": {},
   "outputs": [
    {
     "name": "stdout",
     "output_type": "stream",
     "text": [
      "[{'name': 'ram', 'age': 12, 'addr': 'ktm'}, {'name': 'shyam', 'age': 18, 'addr': 'dhg'}, {'name': 'sam', 'age': 21, 'addr': 'bkt'}]\n"
     ]
    }
   ],
   "source": [
    "l=[\n",
    "    {'name':'ram',\n",
    "    'age':12,\n",
    "    'addr':\"ktm\"},\n",
    "    {'name':'shyam',\n",
    "    'age':18,\n",
    "    'addr':\"dhg\"},\n",
    "    {'name':'sam',\n",
    "    'age':21,\n",
    "    'addr':\"bkt\"}\n",
    "    \n",
    "]\n",
    "print(l)"
   ]
  },
  {
   "cell_type": "code",
   "execution_count": 6,
   "id": "eec736e5",
   "metadata": {},
   "outputs": [
    {
     "name": "stdout",
     "output_type": "stream",
     "text": [
      "Enter n=1\n",
      "ENter nameram\n",
      "ENter age12\n",
      "ENter addressktm\n",
      "[{'name': 'ram', 'age': 12, 'add': 'ktm'}]\n"
     ]
    }
   ],
   "source": [
    "data=[]\n",
    "n=int(input(\"Enter n=\"))\n",
    "for i in range(n):\n",
    "    name=input(\"ENter name\")\n",
    "    age=int(input(\"ENter age\"))\n",
    "    add=input(\"ENter address\")\n",
    "    info={'name':name,'age':age,'add':add}\n",
    "    data.append(info)\n",
    "    \n",
    "print(data\n",
    "     )\n",
    "    "
   ]
  },
  {
   "cell_type": "code",
   "execution_count": 7,
   "id": "162c11fc",
   "metadata": {},
   "outputs": [
    {
     "name": "stdout",
     "output_type": "stream",
     "text": [
      "[{'name': 'ram', 'age': 12, 'add': 'ktm'}, {'name': 'hari', 'age': 19, 'add': 'ktm'}]\n"
     ]
    }
   ],
   "source": [
    "a=[{'name': 'ram', 'age': 12, 'add': 'ktm'}]\n",
    "b={'name':'hari','age':19,'add':'ktm'}\n",
    "a.append(b)\n",
    "print(a)"
   ]
  },
  {
   "cell_type": "code",
   "execution_count": 9,
   "id": "0a07da27",
   "metadata": {},
   "outputs": [
    {
     "name": "stdout",
     "output_type": "stream",
     "text": [
      "ram\n"
     ]
    }
   ],
   "source": [
    "a=[{'name': 'ram', 'age': 12, 'add': 'ktm'}, {'name': 'hari', 'age': 19, 'add': 'ktm'}]\n",
    "b=a[0]['name']\n",
    "print(b)"
   ]
  },
  {
   "cell_type": "code",
   "execution_count": 10,
   "id": "de082b69",
   "metadata": {},
   "outputs": [
    {
     "data": {
      "text/plain": [
       "[{'name': 'aj', 'age': 12, 'add': 'ktm'},\n",
       " {'name': 'hari', 'age': 19, 'add': 'ktm'}]"
      ]
     },
     "execution_count": 10,
     "metadata": {},
     "output_type": "execute_result"
    }
   ],
   "source": [
    "a[0]['name']='aj'\n",
    "a"
   ]
  },
  {
   "cell_type": "code",
   "execution_count": 11,
   "id": "4f254aec",
   "metadata": {},
   "outputs": [],
   "source": [
    "#dict in dict"
   ]
  },
  {
   "cell_type": "code",
   "execution_count": 15,
   "id": "35c0a6a9",
   "metadata": {},
   "outputs": [
    {
     "data": {
      "text/plain": [
       "{1: {'name': 'ram', 'age': 12, 'add': 'ktm'},\n",
       " 2: {'name': 'hari', 'age': 19, 'add': 'bkt'},\n",
       " 3: {'name': 'shyam', 'age': 18, 'add': 'lal'}}"
      ]
     },
     "execution_count": 15,
     "metadata": {},
     "output_type": "execute_result"
    }
   ],
   "source": [
    "a={\n",
    "    1:{'name':'ram','age':12,'add':'ktm'},\n",
    "     2:{'name':'hari','age':19,'add':'bkt'},\n",
    "     3:{'name':'shyam','age':18,'add':'lal'}\n",
    "    \n",
    "}\n",
    "a"
   ]
  },
  {
   "cell_type": "code",
   "execution_count": 16,
   "id": "8deb522c",
   "metadata": {},
   "outputs": [
    {
     "name": "stdout",
     "output_type": "stream",
     "text": [
      "Enter n=1\n",
      "ENter nameram\n",
      "ENter age12\n",
      "ENter addressktm\n"
     ]
    },
    {
     "data": {
      "text/plain": [
       "{1: {'name': 'ram', 'age': 12, 'add': 'ktm'}}"
      ]
     },
     "execution_count": 16,
     "metadata": {},
     "output_type": "execute_result"
    }
   ],
   "source": [
    "a={}\n",
    "n=int(input('Enter n='))\n",
    "for i in range(1,n+1):\n",
    "    name=input(\"ENter name\")\n",
    "    age=int(input(\"ENter age\"))\n",
    "    add=input(\"ENter address\")\n",
    "    info={'name':name,'age':age,'add':add}\n",
    "    a[i]=info\n",
    "a"
   ]
  },
  {
   "cell_type": "code",
   "execution_count": 18,
   "id": "56046c25",
   "metadata": {},
   "outputs": [
    {
     "data": {
      "text/plain": [
       "{1: {'name': 'ram', 'age': 12, 'add': 'ktm'},\n",
       " 2: {'name': 'hari', 'age': 19, 'add': 'bkt'},\n",
       " 3: {'name': 'shyam', 'age': 18, 'add': 'lal'}}"
      ]
     },
     "execution_count": 18,
     "metadata": {},
     "output_type": "execute_result"
    }
   ],
   "source": [
    "a={1: {'name': 'ram', 'age': 12, 'add': 'ktm'},\n",
    " 2: {'name': 'hari', 'age': 19, 'add': 'bkt'},\n",
    "}\n",
    "a[3]= {'name': 'shyam', 'age': 18, 'add': 'lal'}\n",
    "a\n"
   ]
  },
  {
   "cell_type": "code",
   "execution_count": 19,
   "id": "0a2262c0",
   "metadata": {},
   "outputs": [
    {
     "data": {
      "text/plain": [
       "{1: {'name': 'aj', 'age': 12, 'add': 'ktm'},\n",
       " 2: {'name': 'hari', 'age': 19, 'add': 'bkt'},\n",
       " 3: {'name': 'shyam', 'age': 18, 'add': 'lal'}}"
      ]
     },
     "execution_count": 19,
     "metadata": {},
     "output_type": "execute_result"
    }
   ],
   "source": [
    "a[1]['name']='aj'\n",
    "a"
   ]
  },
  {
   "cell_type": "code",
   "execution_count": 21,
   "id": "0c7ea45d",
   "metadata": {},
   "outputs": [
    {
     "name": "stdout",
     "output_type": "stream",
     "text": [
      "{'name': 'aj', 'age': 12, 'add': 'ktm'}\n",
      "{'name': 'hari', 'age': 19, 'add': 'bkt'}\n",
      "{'name': 'shyam', 'age': 18, 'add': 'lal'}\n"
     ]
    }
   ],
   "source": [
    "for i in a.values():\n",
    "    print(i)"
   ]
  },
  {
   "cell_type": "code",
   "execution_count": 2,
   "id": "f0794267",
   "metadata": {},
   "outputs": [
    {
     "name": "stdout",
     "output_type": "stream",
     "text": [
      "Enter no=21321213\n",
      "Enter no=123123123\n",
      "Enter no=132131232\n"
     ]
    },
    {
     "data": {
      "text/plain": [
       "{1: {'name': 'ram', 'age': 12, 'add': 'ktm', 'phone': 21321213},\n",
       " 2: {'name': 'hari', 'age': 19, 'add': 'bkt', 'phone': 123123123},\n",
       " 3: {'name': 'shyam', 'age': 18, 'add': 'lal', 'phone': 132131232}}"
      ]
     },
     "execution_count": 2,
     "metadata": {},
     "output_type": "execute_result"
    }
   ],
   "source": [
    "a={1: {'name': 'ram', 'age': 12, 'add': 'ktm'},\n",
    " 2: {'name': 'hari', 'age': 19, 'add': 'bkt'},\n",
    " 3: {'name': 'shyam', 'age': 18, 'add': 'lal'}}\n",
    "for i in a.values():\n",
    "    phone=int(input(\"Enter no=\"))\n",
    "    i['phone']=phone\n",
    "a"
   ]
  },
  {
   "cell_type": "code",
   "execution_count": 3,
   "id": "e63e0175",
   "metadata": {},
   "outputs": [
    {
     "name": "stdout",
     "output_type": "stream",
     "text": [
      "Enter ntc=8238325\n",
      "Enter ncell=325325252\n",
      "Enter ntc=523523532523532\n",
      "Enter ncell=235232323\n",
      "Enter ntc=2352352352352\n",
      "Enter ncell=23523523\n"
     ]
    },
    {
     "data": {
      "text/plain": [
       "{1: {'name': 'ram', 'age': 12, 'add': 'ktm', 'phone': [8238325, 325325252]},\n",
       " 2: {'name': 'hari',\n",
       "  'age': 19,\n",
       "  'add': 'bkt',\n",
       "  'phone': [523523532523532, 235232323]},\n",
       " 3: {'name': 'shyam',\n",
       "  'age': 18,\n",
       "  'add': 'lal',\n",
       "  'phone': [2352352352352, 23523523]}}"
      ]
     },
     "execution_count": 3,
     "metadata": {},
     "output_type": "execute_result"
    }
   ],
   "source": [
    "for i in a.values():\n",
    "    ntc_phone=int(input(\"Enter ntc=\"))\n",
    "    ncell_phone=int(input(\"Enter ncell=\"))\n",
    "    i['phone']=[ntc_phone,ncell_phone]\n",
    "a"
   ]
  },
  {
   "cell_type": "code",
   "execution_count": null,
   "id": "82cf9107",
   "metadata": {},
   "outputs": [],
   "source": []
  }
 ],
 "metadata": {
  "kernelspec": {
   "display_name": "Python 3 (ipykernel)",
   "language": "python",
   "name": "python3"
  },
  "language_info": {
   "codemirror_mode": {
    "name": "ipython",
    "version": 3
   },
   "file_extension": ".py",
   "mimetype": "text/x-python",
   "name": "python",
   "nbconvert_exporter": "python",
   "pygments_lexer": "ipython3",
   "version": "3.9.12"
  }
 },
 "nbformat": 4,
 "nbformat_minor": 5
}
